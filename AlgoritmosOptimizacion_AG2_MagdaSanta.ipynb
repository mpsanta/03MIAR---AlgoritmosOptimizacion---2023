{
  "nbformat": 4,
  "nbformat_minor": 0,
  "metadata": {
    "colab": {
      "provenance": [],
      "include_colab_link": true
    },
    "kernelspec": {
      "name": "python3",
      "display_name": "Python 3"
    }
  },
  "cells": [
    {
      "cell_type": "markdown",
      "metadata": {
        "id": "view-in-github",
        "colab_type": "text"
      },
      "source": [
        "<a href=\"https://colab.research.google.com/github/mpsanta/03MIAR---AlgoritmosOptimizacion---2023/blob/main/AlgoritmosOptimizacion_AG2_MagdaSanta.ipynb\" target=\"_parent\"><img src=\"https://colab.research.google.com/assets/colab-badge.svg\" alt=\"Open In Colab\"/></a>"
      ]
    },
    {
      "cell_type": "markdown",
      "metadata": {
        "id": "ta1tvzVvsKPC"
      },
      "source": [
        "#Actividad Guiada 2 de Algoritmos de Optimizacion\n",
        "\n",
        "Nombre: MAGDA DEL PILAR SANTA FAJARDO\n",
        "\n",
        "https://colab.research.google.com/drive/18j2zNtrJc8yvIMcuLu1X7hdLs08X6zej?usp=sharing\n",
        "\n",
        "https://github.com/mpsanta/03MIAR---AlgoritmosOptimizacion---2023\n",
        "\n",
        "https://github.com/mpsanta/03MIAR---AlgoritmosOptimizacion---2023/blob/main/AlgoritmosOptimizacion_AG2_MagdaSanta.ipynb\n",
        "<br>\n",
        "\n",
        "\n"
      ]
    },
    {
      "cell_type": "code",
      "source": [
        "import math"
      ],
      "metadata": {
        "id": "I2TWFSGi2evi"
      },
      "execution_count": 1,
      "outputs": []
    },
    {
      "cell_type": "markdown",
      "metadata": {
        "id": "8KXZgu57iEM5"
      },
      "source": [
        "##Programación Dinámica. Viaje por el rio\n",
        "* **Definición**: Es posible dividir el problema en subproblemas más pequeños, guardando las soluciones para ser utilizadas más adelante.\n",
        "* **Características** que permiten identificar problemas aplicables:<br>\n",
        "  -Es posible almacenar soluciones de los subproblemas para ser utilizados más adelante<br>\n",
        "  -Debe verificar el principio de optimalidad de Bellman: “en una secuencia optima de decisiones, toda sub-secuencia también es óptima” (*)<br>\n",
        "  -La necesidad de guardar la información acerca de las soluciones parciales unido a la recursividad provoca la necesidad de preocuparnos por la complejidad espacial (cuantos recursos de espacio usaremos)<br>\n",
        "\n",
        "###Problema<br>\n",
        "En un río hay **n** embarcaderos y debemos desplazarnos río abajo desde un embarcadero a otro. Cada embarcadero tiene precios diferentes para ir de un embarcadero a otro situado más abajo. Para ir del embarcadero i al j, puede ocurrir que sea más barato hacer un trasbordo por un embarcadero intermedio k. El problema consiste en determinar la combinación más barata.\n",
        "\n",
        "![1.jpg](data:image/jpeg;base64,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)"
      ]
    },
    {
      "cell_type": "markdown",
      "source": [
        "*Consideramos una tabla TARIFAS(i,j) para almacenar todos los precios que nos ofrecen los embarcaderos.<br>\n",
        "*Si no es posible ir desde i a j daremos un valor alto para garantizar que ese trayecto no se va a elegir en la ruta óptima (modelado habitual para restricciones)"
      ],
      "metadata": {
        "id": "S_LCFW3123Xc"
      }
    },
    {
      "cell_type": "code",
      "metadata": {
        "id": "fbYfYWjztEjk",
        "colab": {
          "base_uri": "https://localhost:8080/"
        },
        "outputId": "648e0e0a-69d9-49a7-8af4-1a509160f3e2"
      },
      "source": [
        "#Viaje por el rio - Programación dinámica\n",
        "\n",
        "# Costos por pasar por cada nodo, la lista está en orden [n0,n1,n2,n3,n4,n5,n6]\n",
        "TARIFAS = [\n",
        "[0,5,4,3,999,999,999],   #desde nodo 0 #float ('inf') valor al infinito\n",
        "[999,0,999,2,3,999,11],  #desde nodo 1\n",
        "[999,999, 0,1,999,4,10], #desde nodo 2\n",
        "[999,999,999, 0,5,6,9],\n",
        "[999,999, 999,999,0,999,4],\n",
        "[999,999, 999,999,999,0,3],\n",
        "[999,999,999,999,999,999,0]\n",
        "]\n",
        "\n",
        "#999 se puede sustituir por float(\"inf\") del modulo math\n",
        "TARIFAS"
      ],
      "execution_count": 4,
      "outputs": [
        {
          "output_type": "execute_result",
          "data": {
            "text/plain": [
              "[[0, 5, 4, 3, 999, 999, 999],\n",
              " [999, 0, 999, 2, 3, 999, 11],\n",
              " [999, 999, 0, 1, 999, 4, 10],\n",
              " [999, 999, 999, 0, 5, 6, 9],\n",
              " [999, 999, 999, 999, 0, 999, 4],\n",
              " [999, 999, 999, 999, 999, 0, 3],\n",
              " [999, 999, 999, 999, 999, 999, 0]]"
            ]
          },
          "metadata": {},
          "execution_count": 4
        }
      ]
    },
    {
      "cell_type": "code",
      "metadata": {
        "id": "Sgre9gFBtu4F"
      },
      "source": [
        "#Calculo de la matriz de PRECIOS y RUTAS\n",
        "#  PRECIOS - contiene la matriz del mejor precio para ir de un nodo a otro\n",
        "#  RUTAS   - contiene los nodos intermedios para ir de un nodo a otro\n",
        "\n",
        "def Precios(TARIFAS):\n",
        "\n",
        "  #Total de Nodos\n",
        "  N = len(TARIFAS[0])\n",
        "  \n",
        "  #Inicialización de la tabla de precios\n",
        "  PRECIOS = [ [9999]*N for i in [9999]*N]  # La matriz se inicializa con 9999, es de nxn \n",
        "  RUTA = [ [\"\"]*N for i in [\"\"]*N] #Ruta se inicializa con nulos\n",
        "  \n",
        "  #Se recorren todos los nodos con dos bucles(origen - destino)\n",
        "  #  para ir construyendo la matriz de PRECIOS\n",
        "  for i in range(N-1): #El nodo desde\n",
        "    for j in range(i+1, N): #El nodo hasta\n",
        "      MIN = TARIFAS[i][j]\n",
        "      RUTA[i][j] = i\n",
        "      \n",
        "      for k in range(i, j): #Calculos los transbordos o valores intermedios\n",
        "        if PRECIOS[i][k] + TARIFAS[k][j] < MIN:\n",
        "            MIN = min(MIN, PRECIOS[i][k] + TARIFAS[k][j] )\n",
        "            RUTA[i][j] = k\n",
        "        PRECIOS[i][j] = MIN\n",
        "        \n",
        "  return PRECIOS,RUTA"
      ],
      "execution_count": 14,
      "outputs": []
    },
    {
      "cell_type": "code",
      "metadata": {
        "id": "YlBtqg5CwO3x",
        "colab": {
          "base_uri": "https://localhost:8080/"
        },
        "outputId": "ea280676-acd0-479c-9c37-0eb1c27e4a85"
      },
      "source": [
        "PRECIOS,RUTA = Precios(TARIFAS)  \n",
        "#print(PRECIOS[0][6])\n",
        "\n",
        "print(\"PRECIOS\")\n",
        "for i in range(len(TARIFAS)):\n",
        "  print(PRECIOS[i])\n",
        "\n",
        "print(\"\\nRUTA\")  \n",
        "for i in range(len(TARIFAS)):\n",
        "  print(RUTA[i]) "
      ],
      "execution_count": 13,
      "outputs": [
        {
          "output_type": "stream",
          "name": "stdout",
          "text": [
            "PRECIOS\n",
            "[9999, 5, 4, 3, 8, 8, 11]\n",
            "[9999, 9999, 999, 2, 3, 8, 7]\n",
            "[9999, 9999, 9999, 1, 6, 4, 7]\n",
            "[9999, 9999, 9999, 9999, 5, 6, 9]\n",
            "[9999, 9999, 9999, 9999, 9999, 999, 4]\n",
            "[9999, 9999, 9999, 9999, 9999, 9999, 3]\n",
            "[9999, 9999, 9999, 9999, 9999, 9999, 9999]\n",
            "\n",
            "RUTA\n",
            "['', 0, 0, 0, 1, 2, 5]\n",
            "['', '', 1, 1, 1, 3, 4]\n",
            "['', '', '', 2, 3, 2, 5]\n",
            "['', '', '', '', 3, 3, 3]\n",
            "['', '', '', '', '', 4, 4]\n",
            "['', '', '', '', '', '', 5]\n",
            "['', '', '', '', '', '', '']\n"
          ]
        }
      ]
    },
    {
      "cell_type": "code",
      "metadata": {
        "id": "UdMZ4KzywokI"
      },
      "source": [
        "#Calculo de la ruta usando la matriz RUTA\n",
        "def calcular_ruta(RUTA, desde, hasta):\n",
        "  if desde == RUTA[desde][hasta]:\n",
        "  #if desde == hasta:\n",
        "    #print(\"Ir a :\" + str(desde))\n",
        "    return desde \n",
        "  else:\n",
        "    return str(calcular_ruta(RUTA, desde, RUTA[desde][hasta])) +  ',' + str(RUTA[desde][hasta]) #Recursividad"
      ],
      "execution_count": 9,
      "outputs": []
    },
    {
      "cell_type": "markdown",
      "source": [
        "Prueba1: Desde nodo 0 a 6"
      ],
      "metadata": {
        "id": "q0lHG1LLdCuA"
      }
    },
    {
      "cell_type": "code",
      "source": [
        "print(\"\\nLa ruta es:\") \n",
        "\n",
        "calcular_ruta(RUTA,0,6) "
      ],
      "metadata": {
        "colab": {
          "base_uri": "https://localhost:8080/",
          "height": 70
        },
        "id": "1sofVTR-c_Lk",
        "outputId": "6b20e92a-2653-46af-a786-6bb52a1a3469"
      },
      "execution_count": 16,
      "outputs": [
        {
          "output_type": "stream",
          "name": "stdout",
          "text": [
            "\n",
            "La ruta es:\n"
          ]
        },
        {
          "output_type": "execute_result",
          "data": {
            "text/plain": [
              "'0,2,5'"
            ],
            "application/vnd.google.colaboratory.intrinsic+json": {
              "type": "string"
            }
          },
          "metadata": {},
          "execution_count": 16
        }
      ]
    },
    {
      "cell_type": "markdown",
      "source": [
        "Prueba1: Desde nodo 0 a 4"
      ],
      "metadata": {
        "id": "FuRTlQkefqwa"
      }
    },
    {
      "cell_type": "code",
      "source": [
        "print(\"\\nLa ruta es:\") \n",
        "\n",
        "calcular_ruta(RUTA,0,4) "
      ],
      "metadata": {
        "colab": {
          "base_uri": "https://localhost:8080/",
          "height": 70
        },
        "id": "ZpED408Ofwvy",
        "outputId": "e9c7acc6-d788-4190-8fab-a907917ac226"
      },
      "execution_count": 18,
      "outputs": [
        {
          "output_type": "stream",
          "name": "stdout",
          "text": [
            "\n",
            "La ruta es:\n"
          ]
        },
        {
          "output_type": "execute_result",
          "data": {
            "text/plain": [
              "'0,1'"
            ],
            "application/vnd.google.colaboratory.intrinsic+json": {
              "type": "string"
            }
          },
          "metadata": {},
          "execution_count": 18
        }
      ]
    },
    {
      "cell_type": "markdown",
      "source": [
        "##Ramificación y Poda.\n",
        "\n",
        "Durante la exploración exhaustiva es posible eliminar definitivamente ramas del árbol que sabemos a ciencia cierta que no va a mejorar la solución encontrada.\n",
        "\n",
        "En cada nodo se establece una cota para todas las soluciones alcanzables desde dicho nodo.\n",
        "\n",
        "Si dicha cota resulta ser peor que la mejor solución alcanzada hasta el momento, entonces se decide no explorar diche rama y por lo tanto se poda.\n",
        "\n",
        "Se debe establecer una pila para almacenar los nodos que aún no han sido explorados y determinar una función de coste para estimar en cada nodo una cota asociada."
      ],
      "metadata": {
        "id": "HVvFvIsxiRN-"
      }
    },
    {
      "cell_type": "markdown",
      "metadata": {
        "id": "HPfKYr5BiWth"
      },
      "source": [
        "##Problema: Asignacion de tareas\n",
        "\n",
        "El problema consiste en maximizar el rendimiento (o minimizar los costes) en cuanto a la asignación de N tareas a N agentes. Cada tarea solo puede ser \n",
        "asignado a un agente. \n",
        "\n",
        "Los beneficios que se obtienen al realizar la tarea 1 por el agente A es 9. Ver diapositiva.\n",
        "\n",
        "La matriz de beneficios es la que se muestra en la figura. Ver diapositiva.\n",
        "\n",
        "Aplicando Ramificación y Poda, obtener la asignación que maximice los beneficios.\n",
        "\n",
        "Se busca el beneficio más alto.\n",
        "\n",
        "\n"
      ]
    },
    {
      "cell_type": "code",
      "metadata": {
        "id": "Z7ot-cc653A5"
      },
      "source": [
        "#Asignacion de tareas - Ramificación y Poda\n",
        "\n",
        "#    T A R E A \n",
        "#   A\n",
        "#   G\n",
        "#   E\n",
        "#   N\n",
        "#   T\n",
        "#   E\n",
        "\n",
        "COSTES=[[11,12,18,40], #Matriz de costes iniciales\n",
        "        [14,15,13,22],\n",
        "        [11,17,19,23],\n",
        "        [17,14,20,28]]\n",
        "        "
      ],
      "execution_count": 19,
      "outputs": []
    },
    {
      "cell_type": "code",
      "metadata": {
        "id": "GLrebA2z64WP",
        "colab": {
          "base_uri": "https://localhost:8080/"
        },
        "outputId": "58211eca-9a1d-44b7-ef76-d11664d782b2"
      },
      "source": [
        "#Calculo del valor de una solucion parcial\n",
        "def valor(S,COSTES):\n",
        "  VALOR = 0\n",
        "  for i in range(len(S)):\n",
        "    VALOR += COSTES[S[i]][i] \n",
        "  return VALOR\n",
        "\n",
        "\n",
        "\n",
        "valor((3,0, ),COSTES) #Asignación de tareas, se colocan los agentes. Los agentes van desde 0 a 3\n",
        "                     #Tarea0 se asigna agente 3. Tarea1 se asigna agente 0\n",
        "                     #Total es 17+12 "
      ],
      "execution_count": 27,
      "outputs": [
        {
          "output_type": "execute_result",
          "data": {
            "text/plain": [
              "29"
            ]
          },
          "metadata": {},
          "execution_count": 27
        }
      ]
    },
    {
      "cell_type": "code",
      "metadata": {
        "id": "fXG2CAq87Csv",
        "colab": {
          "base_uri": "https://localhost:8080/"
        },
        "outputId": "05830160-dccb-45ac-830e-d322b1385395"
      },
      "source": [
        "#Coste inferior para soluciones parciales\n",
        "\n",
        "def CI(S,COSTES):\n",
        "  VALOR = 0\n",
        "  #Valores establecidos\n",
        "  for i in range(len(S)):\n",
        "    VALOR += COSTES[i][S[i]]\n",
        "\n",
        "  #Estimacion\n",
        "  for i in range( len(S), len(COSTES)   ):\n",
        "    VALOR += min( [ COSTES[j][i] for j in range(len(S), len(COSTES))  ])\n",
        "  return VALOR\n",
        "\n",
        "def CS(S,COSTES):\n",
        "  VALOR = 0\n",
        "  #Valores establecidos\n",
        "  for i in range(len(S)):\n",
        "    VALOR += COSTES[i][S[i]]\n",
        "\n",
        "  #Estimacion\n",
        "  for i in range( len(S), len(COSTES)   ):\n",
        "    VALOR += max( [ COSTES[j][i] for j in range(len(S), len(COSTES))  ])\n",
        "  return VALOR\n",
        "\n",
        "CI((0,1),COSTES)"
      ],
      "execution_count": 28,
      "outputs": [
        {
          "output_type": "execute_result",
          "data": {
            "text/plain": [
              "68"
            ]
          },
          "metadata": {},
          "execution_count": 28
        }
      ]
    },
    {
      "cell_type": "code",
      "metadata": {
        "id": "5m_aD0CH8mmZ"
      },
      "source": [
        "#Genera tantos hijos como como posibilidades haya para la siguiente elemento de la tupla\n",
        "#(0,) -> (0,1), (0,2), (0,3)\n",
        "def crear_hijos(NODO, N):\n",
        "  HIJOS = []\n",
        "  for i in range(N ):\n",
        "    if i not in NODO:\n",
        "      HIJOS.append({'s':NODO +(i,)    })\n",
        "  return HIJOS"
      ],
      "execution_count": 30,
      "outputs": []
    },
    {
      "cell_type": "code",
      "metadata": {
        "colab": {
          "base_uri": "https://localhost:8080/"
        },
        "id": "4xBiYAKNADKC",
        "outputId": "f2026c96-3a9f-4225-a49e-f976a3476776"
      },
      "source": [
        "crear_hijos((0,1,) , 4) #Asigno a la tarea 1 el agente 0"
      ],
      "execution_count": 31,
      "outputs": [
        {
          "output_type": "execute_result",
          "data": {
            "text/plain": [
              "[{'s': (0, 1, 2)}, {'s': (0, 1, 3)}]"
            ]
          },
          "metadata": {},
          "execution_count": 31
        }
      ]
    },
    {
      "cell_type": "code",
      "metadata": {
        "id": "CmWryVOl8wQy"
      },
      "source": [
        "def ramificacion_y_poda(COSTES):\n",
        "#Construccion iterativa de soluciones(arbol). En cada etapa asignamos un agente(ramas).\n",
        "#Nodos del grafo  { s:(1,2),CI:3,CS:5  }\n",
        "  #print(COSTES)\n",
        "  DIMENSION = len(COSTES)  \n",
        "  MEJOR_SOLUCION=tuple( i for i in range(len(COSTES)) )\n",
        "  CotaSup = valor(MEJOR_SOLUCION,COSTES)\n",
        "  #print(\"Cota Superior:\", CotaSup)\n",
        "\n",
        "  NODOS=[]\n",
        "  NODOS.append({'s':(), 'ci':CI((),COSTES)    } )\n",
        "\n",
        "  iteracion = 0\n",
        "\n",
        "  while( len(NODOS) > 0):\n",
        "    iteracion +=1\n",
        "\n",
        "    nodo_prometedor = [ min(NODOS, key=lambda x:x['ci']) ][0]['s']\n",
        "    #print(\"Nodo prometedor:\", nodo_prometedor)\n",
        "\n",
        "    #Ramificacion\n",
        "    #Se generan los hijos\n",
        "    HIJOS =[ {'s':x['s'], 'ci':CI(x['s'], COSTES)   } for x in crear_hijos(nodo_prometedor, DIMENSION) ]\n",
        "\n",
        "    #Revisamos la cota superior y nos quedamos con la mejor solucion si llegamos a una solucion final\n",
        "    NODO_FINAL = [x for x in HIJOS if len(x['s']) == DIMENSION  ]\n",
        "    if len(NODO_FINAL ) >0: \n",
        "      #print(\"\\n********Soluciones:\",  [x for x in HIJOS if len(x['s']) == DIMENSION  ] )\n",
        "      if NODO_FINAL[0]['ci'] < CotaSup:\n",
        "        CotaSup = NODO_FINAL[0]['ci']\n",
        "        MEJOR_SOLUCION = NODO_FINAL\n",
        " \n",
        "    #Poda\n",
        "    HIJOS = [x for x in HIJOS if x['ci'] < CotaSup   ]\n",
        "\n",
        "    #Añadimos los hijos \n",
        "    NODOS.extend(HIJOS) \n",
        "\n",
        "    #Eliminamos el nodo ramificado\n",
        "    NODOS =  [  x for x in NODOS if x['s'] != nodo_prometedor    ] \n",
        "\n",
        "  print(\"La solucion final es:\" ,MEJOR_SOLUCION , \" en \" , iteracion , \" iteraciones\" , \" para dimension: \" ,DIMENSION  )\n",
        " "
      ],
      "execution_count": 38,
      "outputs": []
    },
    {
      "cell_type": "markdown",
      "source": [
        "Prueba:"
      ],
      "metadata": {
        "id": "3ihyfX1Yq7Z8"
      }
    },
    {
      "cell_type": "code",
      "source": [
        "ramificacion_y_poda(COSTES)"
      ],
      "metadata": {
        "colab": {
          "base_uri": "https://localhost:8080/"
        },
        "id": "Pr8xt6Woq9qT",
        "outputId": "b9038739-72a4-4929-8f2d-4c46e157a221"
      },
      "execution_count": 39,
      "outputs": [
        {
          "output_type": "stream",
          "name": "stdout",
          "text": [
            "La solucion final es: [{'s': (1, 2, 0, 3), 'ci': 64}]  en  10  iteraciones  para dimension:  4\n"
          ]
        }
      ]
    }
  ]
}