{
  "nbformat": 4,
  "nbformat_minor": 0,
  "metadata": {
    "colab": {
      "provenance": [],
      "include_colab_link": true
    },
    "kernelspec": {
      "name": "python3",
      "display_name": "Python 3"
    },
    "language_info": {
      "name": "python"
    }
  },
  "cells": [
    {
      "cell_type": "markdown",
      "metadata": {
        "id": "view-in-github",
        "colab_type": "text"
      },
      "source": [
        "<a href=\"https://colab.research.google.com/github/mpsanta/03MIAR---AlgoritmosOptimizacion---2023/blob/main/AlgoritmosOptimizacion_AG1_MagdaSanta.ipynb\" target=\"_parent\"><img src=\"https://colab.research.google.com/assets/colab-badge.svg\" alt=\"Open In Colab\"/></a>"
      ]
    },
    {
      "cell_type": "markdown",
      "metadata": {
        "id": "GG2D6vLdYwwy"
      },
      "source": [
        "Actividad Guiada 1 de Algoritmos de Optimizacion\n",
        "\n",
        "Nombre: MAGDA DEL PILAR SANTA FAJARDO\n",
        "\n",
        "https://colab.research.google.com/drive/17t2-40Mi7LHIomxJK3INCTa7Wo6Mx47r?usp=sharing\n",
        "\n",
        "https://github.com/mpsanta/03MIAR---AlgoritmosOptimizacion---2023"
      ]
    },
    {
      "cell_type": "markdown",
      "source": [
        "ALGORITMO DIVIDE Y VENCERAS\n",
        "\n",
        "Resolver el problema principal a partir de las soluciones que proporcionan los subproblemas del mismo tipo pero de menor tamaño.\n",
        "\n",
        "CARACTERÍSTICAS\n",
        "- Problema se puede dividir en problemas más pequeños de la misma naturaleza al principal.\n",
        "- Los subproblemas se pueden resolver de forma sencilla.\n",
        "- Se puede combinar las soluciones de los subproblemas para componer la solución del problema principal.\n",
        "- Los subproblemas no se pueden solapar.\n",
        "- El proceso debe finalizar en algún momento.\n",
        "\n",
        "NOTA: La complejidad es O(2^n).\n"
      ],
      "metadata": {
        "id": "CVBKODiAJNGU"
      }
    },
    {
      "cell_type": "markdown",
      "source": [
        "PROBLEMA: TORRES DE HANOY\n",
        "\n",
        "![Torres de Hanoy.JPG](data:image/jpeg;base64,/9j/4AAQSkZJRgABAQEAYABgAAD/4REkRXhpZgAATU0AKgAAAAgABAE7AAIAAAAeAAAISodpAAQAAAABAAAIaJydAAEAAAA8AAAQ4OocAAcAAAgMAAAAPgAAAAAc6gAAAAgAAAAAAAAAAAAAAAAAAAAAAAAAAAAAAAAAAAAAAAAAAAAAAAAAAAAAAAAAAAAAAAAAAAAAAAAAAAAAAAAAAAAAAAAAAAAAAAAAAAAAAAAAAAAAAAAAAAAAAAAAAAAAAAAAAAAAAAAAAAAAAAAAAAAAAAAAAAAAAAAAAAAAAAAAAAAAAAAAAAAAAAAAAAAAAAAAAAAAAAAAAAAAAAAAAAAAAAAAAAAAAAAAAAAAAAAAAAAAAAAAAAAAAAAAAAAAAAAAAAAAAAAAAAAAAAAAAAAAAAAAAAAAAAAAAAAAAAAAAAAAAAAAAAAAAAAAAAAAAAAAAAAAAAAAAAAAAAAAAAAAAAAAAAAAAAAAAAAAAAAAAAAAAAAAAAAAAAAAAAAAAAAAAAAAAAAAAAAAAAAAAAAAAAAAAAAAAAAAAAAAAAAAAAAAAAAAAAAAAAAAAAAAAAAAAAAAAAAAAAAAAAAAAAAAAAAAAAAAAAAAAAAAAAAAAAAAAAAAAAAAAAAAAAAAAAAAAAAAAAAAAAAAAAAAAAAAAAAAAAAAAAAAAAAAAAAAAAAAAAAAAAAAAAAAAAAAAAAAAAAAAAAAAAAAAAAAAAAAAAAAAAAAAAAAAAAAAAAAAAAAAAAAAAAAAAAAAAAAAAAAAAAAAAAAAAAAAAAAAAAAAAAAAAAAAAAAAAAAAAAAAAAAAAAAAAAAAAAAAAAAAAAAAAAAAAAAAAAAAAAAAAAAAAAAAAAAAAAAAAAAAAAAAAAAAAAAAAAAAAAAAAAAAAAAAAAAAAAAAAAAAAAAAAAAAAAAAAAAAAAAAAAAAAAAAAAAAAAAAAAAAAAAAAAAAAAAAAAAAAAAAAAAAAAAAAAAAAAAAAAAAAAAAAAAAAAAAAAAAAAAAAAAAAAAAAAAAAAAAAAAAAAAAAAAAAAAAAAAAAAAAAAAAAAAAAAAAAAAAAAAAAAAAAAAAAAAAAAAAAAAAAAAAAAAAAAAAAAAAAAAAAAAAAAAAAAAAAAAAAAAAAAAAAAAAAAAAAAAAAAAAAAAAAAAAAAAAAAAAAAAAAAAAAAAAAAAAAAAAAAAAAAAAAAAAAAAAAAAAAAAAAAAAAAAAAAAAAAAAAAAAAAAAAAAAAAAAAAAAAAAAAAAAAAAAAAAAAAAAAAAAAAAAAAAAAAAAAAAAAAAAAAAAAAAAAAAAAAAAAAAAAAAAAAAAAAAAAAAAAAAAAAAAAAAAAAAAAAAAAAAAAAAAAAAAAAAAAAAAAAAAAAAAAAAAAAAAAAAAAAAAAAAAAAAAAAAAAAAAAAAAAAAAAAAAAAAAAAAAAAAAAAAAAAAAAAAAAAAAAAAAAAAAAAAAAAAAAAAAAAAAAAAAAAAAAAAAAAAAAAAAAAAAAAAAAAAAAAAAAAAAAAAAAAAAAAAAAAAAAAAAAAAAAAAAAAAAAAAAAAAAAAAAAAAAAAAAAAAAAAAAAAAAAAAAAAAAAAAAAAAAAAAAAAAAAAAAAAAAAAAAAAAAAAAAAAAAAAAAAAAAAAAAAAAAAAAAAAAAAAAAAAAAAAAAAAAAAAAAAAAAAAAAAAAAAAAAAAAAAAAAAAAAAAAAAAAAAAAAAAAAAAAAAAAAAAAAAAAAAAAAAAAAAAAAAAAAAAAAAAAAAAAAAAAAAAAAAAAAAAAAAAAAAAAAAAAAAAAAAAAAAAAAAAAAAAAAAAAAAAAAAAAAAAAAAAAAAAAAAAAAAAAAAAAAAAAAAAAAAAAAAAAAAAAAAAAAAAAAAAAAAAAAAAAAAAAAAAAAAAAAAAAAAAAAAAAAAAAAAAAAAAAAAAAAAAAAAAAAAAAAAAAAAAAAAAAAAAAAAAAAAAAAAAAAAAAAAAAAAAAAAAAAAAAAAAAAAAAAAAAAAAAAAAAAAAAAAAAAAAAAAAAAAAAAAAAAAAAAAAAAAAAAAAAAAAAAAAAAAAAAAAAAAAAAAAAAAAAAAAAAAAAAAAAAAAAAAAAAAAAAAAAAAAAAAAAAAAAAAAAAAAAAAAAAAAAAAAAAAAAAAAAAAAAAAAAAAAAAAAAAAAAAAAAAAAAAAAAAAAAAAAAAAAAAAAAAAAAAAAAAAAAAAAAAAAAAAAAAAAAAAAAAAAAAAAAAAAAAAAAAAAAAAAAAAAAAAAAAAAAAAAAAAAAAAAAAAAAAAAAAAAAAAAAAAAAAAAAAAAAAAAAAAAAAAAAAAAAAAAAAAAAAAAAAAAAAAAAAAAAAAAAAAAAAAAAAAAAAAAAAAAAAAAAAAAAAAAAAAAAAAAAAAAAAAAAAAAAAAAAAAAAAAAAAAAAAAAAAAAAAAAAAAAAAAAAAAAAAAAAAAAAAAAAAAAAAAAAAAAAAAAAAAAAAAAAAAAAAAAAAAAAAAAAAAAAAAAAAAAAAAAAAAAAAAAAAAAAAAAAAAAAAAAAAAAAAAAAAAAAAAAAAAAAAAAAAAAAAAAAAAAAAAAAAAAAAAAAAAAAAAAAAAAAAAAAAAAAAAAAAAAAAAAAAAAAAAAAAAAAAAAAAAAAAAAAAAAAAAAAAAAAAAAAAAAAAAAAAAAAAAAAAAAAAAAAAAAAAAAAAAAAAAAAAAAAAAAAAAAAAAAAAAAAAAAAAAAAAAAAAAAAAAAAAAAAAAAAAAAAAAAAAAAAAAAAAAAAAAAAAAAAAAAAAAAAAAAAAAAAAAAAAAAAAAAAAAAAAAAAAAAAAAAAAAAAAAAAAAAAAAAAAAAAAAAAAAAAAAAAAAAAAAAAAAAAAAAAAAAAAAAAAAAAAAAAAAAAAE1hZ2RhIGRlbCBQaWxhciBTYW50YSBGYWphcmRvAAAFkAMAAgAAABQAABC2kAQAAgAAABQAABDKkpEAAgAAAAMxNwAAkpIAAgAAAAMxNwAA6hwABwAACAwAAAiqAAAAABzqAAAACAAAAAAAAAAAAAAAAAAAAAAAAAAAAAAAAAAAAAAAAAAAAAAAAAAAAAAAAAAAAAAAAAAAAAAAAAAAAAAAAAAAAAAAAAAAAAAAAAAAAAAAAAAAAAAAAAAAAAAAAAAAAAAAAAAAAAAAAAAAAAAAAAAAAAAAAAAAAAAAAAAAAAAAAAAAAAAAAAAAAAAAAAAAAAAAAAAAAAAAAAAAAAAAAAAAAAAAAAAAAAAAAAAAAAAAAAAAAAAAAAAAAAAAAAAAAAAAAAAAAAAAAAAAAAAAAAAAAAAAAAAAAAAAAAAAAAAAAAAAAAAAAAAAAAAAAAAAAAAAAAAAAAAAAAAAAAAAAAAAAAAAAAAAAAAAAAAAAAAAAAAAAAAAAAAAAAAAAAAAAAAAAAAAAAAAAAAAAAAAAAAAAAAAAAAAAAAAAAAAAAAAAAAAAAAAAAAAAAAAAAAAAAAAAAAAAAAAAAAAAAAAAAAAAAAAAAAAAAAAAAAAAAAAAAAAAAAAAAAAAAAAAAAAAAAAAAAAAAAAAAAAAAAAAAAAAAAAAAAAAAAAAAAAAAAAAAAAAAAAAAAAAAAAAAAAAAAAAAAAAAAAAAAAAAAAAAAAAAAAAAAAAAAAAAAAAAAAAAAAAAAAAAAAAAAAAAAAAAAAAAAAAAAAAAAAAAAAAAAAAAAAAAAAAAAAAAAAAAAAAAAAAAAAAAAAAAAAAAAAAAAAAAAAAAAAAAAAAAAAAAAAAAAAAAAAAAAAAAAAAAAAAAAAAAAAAAAAAAAAAAAAAAAAAAAAAAAAAAAAAAAAAAAAAAAAAAAAAAAAAAAAAAAAAAAAAAAAAAAAAAAAAAAAAAAAAAAAAAAAAAAAAAAAAAAAAAAAAAAAAAAAAAAAAAAAAAAAAAAAAAAAAAAAAAAAAAAAAAAAAAAAAAAAAAAAAAAAAAAAAAAAAAAAAAAAAAAAAAAAAAAAAAAAAAAAAAAAAAAAAAAAAAAAAAAAAAAAAAAAAAAAAAAAAAAAAAAAAAAAAAAAAAAAAAAAAAAAAAAAAAAAAAAAAAAAAAAAAAAAAAAAAAAAAAAAAAAAAAAAAAAAAAAAAAAAAAAAAAAAAAAAAAAAAAAAAAAAAAAAAAAAAAAAAAAAAAAAAAAAAAAAAAAAAAAAAAAAAAAAAAAAAAAAAAAAAAAAAAAAAAAAAAAAAAAAAAAAAAAAAAAAAAAAAAAAAAAAAAAAAAAAAAAAAAAAAAAAAAAAAAAAAAAAAAAAAAAAAAAAAAAAAAAAAAAAAAAAAAAAAAAAAAAAAAAAAAAAAAAAAAAAAAAAAAAAAAAAAAAAAAAAAAAAAAAAAAAAAAAAAAAAAAAAAAAAAAAAAAAAAAAAAAAAAAAAAAAAAAAAAAAAAAAAAAAAAAAAAAAAAAAAAAAAAAAAAAAAAAAAAAAAAAAAAAAAAAAAAAAAAAAAAAAAAAAAAAAAAAAAAAAAAAAAAAAAAAAAAAAAAAAAAAAAAAAAAAAAAAAAAAAAAAAAAAAAAAAAAAAAAAAAAAAAAAAAAAAAAAAAAAAAAAAAAAAAAAAAAAAAAAAAAAAAAAAAAAAAAAAAAAAAAAAAAAAAAAAAAAAAAAAAAAAAAAAAAAAAAAAAAAAAAAAAAAAAAAAAAAAAAAAAAAAAAAAAAAAAAAAAAAAAAAAAAAAAAAAAAAAAAAAAAAAAAAAAAAAAAAAAAAAAAAAAAAAAAAAAAAAAAAAAAAAAAAAAAAAAAAAAAAAAAAAAAAAAAAAAAAAAAAAAAAAAAAAAAAAAAAAAAAAAAAAAAAAAAAAAAAAAAAAAAAAAAAAAAAAAAAAAAAAAAAAAAAAAAAAAAAAAAAAAAAAAAAAAAAAAAAAAAAAAAAAAAAAAAAAAAAAAAAAAAAAAAAAAAAAAAAAAAAAAAAAAAAAAAAAAAAAAAAAAAAAAAAAAAAAAAAAAAAAAAAAAAAAAAAAAAAAAAAAAAAAAAAAAAAAAAAAAAAAAAAAAAAAAAAAAAAAAAAAAAAAAAAAAAAAAAAAAAAAAAAAAAAAAAAAAAAAAAAAAAAAAAAAAAAAAAAAAAAAAAAAAAAAAAAAAAAAAAAAAAAAAAAAAAAAAAAAAAAAAAAAAAAAAAAAAAAAAAAAAAAAAAAAAAAAAAAAAAAAAAAAAAAAAAAAAAAAAAAAAAAAAAAAAAAAAAAAAAAAAAAAAAAAAAAAAAAAAAAAAAAAAAAAAAAAAAAAAAAAAAAAAAAAAAAAAAAAAAAAAAAAAAAAAAAAAAAAAAAAAAAAAAAAAAAAAAAAAAAAAAAAAAAAAAAAAAAAAAAAAAAAAAAAAAAAAAAAAAAAAAAAAAAAAAAAAAAAAAAAAAAAAAAAAAAAAAAAAAAAAAAAAAAAAAAAAAAAAAAAAAAAAAAAAAAAAAAAAAAAAAAAAAAAAAAAAAAAAAAAAAAAAAAAAAAAAAAAAAAAAAAAAAAAAAAAAAAAAAAAAAAAAAAAAAAAAAAAAAAAAAAAAAAAAAAAAAAAAAAAAAAAAAAAAAAAAAAAAAAAAAAAAAAAAAAAAAAAAAAAAAAAAAAAAAAAAAAAAAAAAAAAAAAAAAAAAAAAAAAAAAAAAAAAAAAAAAAAAAAAAAAAAAAAAAAAAAAAAAAAAAAAAAAAAAAAAAAAAAAAAAAAAAAAAAAAAAAAAAAAAAAAAAAAAAAAAAAAAAAAAAAAAAAAAAAAAAAAAAAAAAAAAAAAAAAAAAAAAAAAAAAAAAAAAAAAAAAAAAAAAAAAAAAAAAAAAAAAAMjAyMzowMjowNSAwMTowNjo0NQAyMDIzOjAyOjA1IDAxOjA2OjQ1AAAATQBhAGcAZABhACAAZABlAGwAIABQAGkAbABhAHIAIABTAGEAbgB0AGEAIABGAGEAagBhAHIAZABvAAAA/+ELMGh0dHA6Ly9ucy5hZG9iZS5jb20veGFwLzEuMC8APD94cGFja2V0IGJlZ2luPSfvu78nIGlkPSdXNU0wTXBDZWhpSHpyZVN6TlRjemtjOWQnPz4NCjx4OnhtcG1ldGEgeG1sbnM6eD0iYWRvYmU6bnM6bWV0YS8iPjxyZGY6UkRGIHhtbG5zOnJkZj0iaHR0cDovL3d3dy53My5vcmcvMTk5OS8wMi8yMi1yZGYtc3ludGF4LW5zIyI+PHJkZjpEZXNjcmlwdGlvbiByZGY6YWJvdXQ9InV1aWQ6ZmFmNWJkZDUtYmEzZC0xMWRhLWFkMzEtZDMzZDc1MTgyZjFiIiB4bWxuczpkYz0iaHR0cDovL3B1cmwub3JnL2RjL2VsZW1lbnRzLzEuMS8iLz48cmRmOkRlc2NyaXB0aW9uIHJkZjphYm91dD0idXVpZDpmYWY1YmRkNS1iYTNkLTExZGEtYWQzMS1kMzNkNzUxODJmMWIiIHhtbG5zOnhtcD0iaHR0cDovL25zLmFkb2JlLmNvbS94YXAvMS4wLyI+PHhtcDpDcmVhdGVEYXRlPjIwMjMtMDItMDVUMDE6MDY6NDUuMTcwPC94bXA6Q3JlYXRlRGF0ZT48L3JkZjpEZXNjcmlwdGlvbj48cmRmOkRlc2NyaXB0aW9uIHJkZjphYm91dD0idXVpZDpmYWY1YmRkNS1iYTNkLTExZGEtYWQzMS1kMzNkNzUxODJmMWIiIHhtbG5zOmRjPSJodHRwOi8vcHVybC5vcmcvZGMvZWxlbWVudHMvMS4xLyI+PGRjOmNyZWF0b3I+PHJkZjpTZXEgeG1sbnM6cmRmPSJodHRwOi8vd3d3LnczLm9yZy8xOTk5LzAyLzIyLXJkZi1zeW50YXgtbnMjIj48cmRmOmxpPk1hZ2RhIGRlbCBQaWxhciBTYW50YSBGYWphcmRvPC9yZGY6bGk+PC9yZGY6U2VxPg0KCQkJPC9kYzpjcmVhdG9yPjwvcmRmOkRlc2NyaXB0aW9uPjwvcmRmOlJERj48L3g6eG1wbWV0YT4NCiAgICAgICAgICAgICAgICAgICAgICAgICAgICAgICAgICAgICAgICAgICAgICAgICAgICAgICAgICAgICAgICAgICAgICAgICAgICAgICAgICAgICAgICAgICAgICAgICAgICAKICAgICAgICAgICAgICAgICAgICAgICAgICAgICAgICAgICAgICAgICAgICAgICAgICAgICAgICAgICAgICAgICAgICAgICAgICAgICAgICAgICAgICAgICAgICAgICAgICAgIAogICAgICAgICAgICAgICAgICAgICAgICAgICAgICAgICAgICAgICAgICAgICAgICAgICAgICAgICAgICAgICAgICAgICAgICAgICAgICAgICAgICAgICAgICAgICAgICAgICAgCiAgICAgICAgICAgICAgICAgICAgICAgICAgICAgICAgICAgICAgICAgICAgICAgICAgICAgICAgICAgICAgICAgICAgICAgICAgICAgICAgICAgICAgICAgICAgICAgICAgICAKICAgICAgICAgICAgICAgICAgICAgICAgICAgICAgICAgICAgICAgICAgICAgICAgICAgICAgICAgICAgICAgICAgICAgICAgICAgICAgICAgICAgICAgICAgICAgICAgICAgIAogICAgICAgICAgICAgICAgICAgICAgICAgICAgICAgICAgICAgICAgICAgICAgICAgICAgICAgICAgICAgICAgICAgICAgICAgICAgICAgICAgICAgICAgICAgICAgICAgICAgCiAgICAgICAgICAgICAgICAgICAgICAgICAgICAgICAgICAgICAgICAgICAgICAgICAgICAgICAgICAgICAgICAgICAgICAgICAgICAgICAgICAgICAgICAgICAgICAgICAgICAKICAgICAgICAgICAgICAgICAgICAgICAgICAgICAgICAgICAgICAgICAgICAgICAgICAgICAgICAgICAgICAgICAgICAgICAgICAgICAgICAgICAgICAgICAgICAgICAgICAgIAogICAgICAgICAgICAgICAgICAgICAgICAgICAgICAgICAgICAgICAgICAgICAgICAgICAgICAgICAgICAgICAgICAgICAgICAgICAgICAgICAgICAgICAgICAgICAgICAgICAgCiAgICAgICAgICAgICAgICAgICAgICAgICAgICAgICAgICAgICAgICAgICAgICAgICAgICAgICAgICAgICAgICAgICAgICAgICAgICAgICAgICAgICAgICAgICAgICAgICAgICAKICAgICAgICAgICAgICAgICAgICAgICAgICAgICAgICAgICAgICAgICAgICAgICAgICAgICAgICAgICAgICAgICAgICAgICAgICAgICAgICAgICAgICAgICAgICAgICAgICAgIAogICAgICAgICAgICAgICAgICAgICAgICAgICAgICAgICAgICAgICAgICAgICAgICAgICAgICAgICAgICAgICAgICAgICAgICAgICAgICAgICAgICAgICAgICAgICAgICAgICAgCiAgICAgICAgICAgICAgICAgICAgICAgICAgICAgICAgICAgICAgICAgICAgICAgICAgICAgICAgICAgICAgICAgICAgICAgICAgICAgICAgICAgICAgICAgICAgICAgICAgICAKICAgICAgICAgICAgICAgICAgICAgICAgICAgICAgICAgICAgICAgICAgICAgICAgICAgICAgICAgICAgICAgICAgICAgICAgICAgICAgICAgICAgICAgICAgICAgICAgICAgIAogICAgICAgICAgICAgICAgICAgICAgICAgICAgICAgICAgICAgICAgICAgICAgICAgICAgICAgICAgICAgICAgICAgICAgICAgICAgICAgICAgICAgICAgICAgICAgICAgICAgCiAgICAgICAgICAgICAgICAgICAgICAgICAgICAgICAgICAgICAgICAgICAgICAgICAgICAgICAgICAgICAgICAgICAgICAgICAgICAgICAgICAgICAgICAgICAgICAgICAgICAKICAgICAgICAgICAgICAgICAgICAgICAgICAgICAgICAgICAgICAgICAgICAgICAgICAgICAgICAgICAgICAgICAgICAgICAgICAgICAgICAgICAgICAgICAgICAgICAgICAgIAogICAgICAgICAgICAgICAgICAgICAgICAgICAgICAgICAgICAgICAgICAgICAgICAgICAgICAgICAgICAgICAgICAgICAgICAgICAgICAgICAgICAgICAgICAgICAgICAgICAgCiAgICAgICAgICAgICAgICAgICAgICAgICAgICAgICAgICAgICAgICAgICAgICAgICAgICAgICAgICAgICAgICAgICAgICAgICAgICAgICAgICAgICAgICAgICAgICAgICAgICAKICAgICAgICAgICAgICAgICAgICAgICAgICAgICAgICAgICAgICAgICAgICAgICAgICAgICAgICAgICAgICAgICAgICAgICAgICAgICAgICAgICAgICAgICAgICAgICAgICAgIAogICAgICAgICAgICAgICAgICAgICAgICAgICAgPD94cGFja2V0IGVuZD0ndyc/Pv/bAEMABwUFBgUEBwYFBggHBwgKEQsKCQkKFQ8QDBEYFRoZGBUYFxseJyEbHSUdFxgiLiIlKCkrLCsaIC8zLyoyJyorKv/bAEMBBwgICgkKFAsLFCocGBwqKioqKioqKioqKioqKioqKioqKioqKioqKioqKioqKioqKioqKioqKioqKioqKioqKv/AABEIAN4BnwMBIgACEQEDEQH/xAAfAAABBQEBAQEBAQAAAAAAAAAAAQIDBAUGBwgJCgv/xAC1EAACAQMDAgQDBQUEBAAAAX0BAgMABBEFEiExQQYTUWEHInEUMoGRoQgjQrHBFVLR8CQzYnKCCQoWFxgZGiUmJygpKjQ1Njc4OTpDREVGR0hJSlNUVVZXWFlaY2RlZmdoaWpzdHV2d3h5eoOEhYaHiImKkpOUlZaXmJmaoqOkpaanqKmqsrO0tba3uLm6wsPExcbHyMnK0tPU1dbX2Nna4eLj5OXm5+jp6vHy8/T19vf4+fr/xAAfAQADAQEBAQEBAQEBAAAAAAAAAQIDBAUGBwgJCgv/xAC1EQACAQIEBAMEBwUEBAABAncAAQIDEQQFITEGEkFRB2FxEyIygQgUQpGhscEJIzNS8BVictEKFiQ04SXxFxgZGiYnKCkqNTY3ODk6Q0RFRkdISUpTVFVWV1hZWmNkZWZnaGlqc3R1dnd4eXqCg4SFhoeIiYqSk5SVlpeYmZqio6Slpqeoqaqys7S1tre4ubrCw8TFxsfIycrS09TV1tfY2dri4+Tl5ufo6ery8/T19vf4+fr/2gAMAwEAAhEDEQA/APop5pftDRQxI21AxLyFepI9D6Ub7v8A54Q/9/j/APE1T1VQ1pqisAQbHBB78SVnawlrp0EIs9GtLu6uJRFDEwWNS21mOW2nACqexrCrW9m0rDSubu+7/wCeEP8A3+P/AMTRvu/+eEP/AH+P/wATXBr4ns5Yop4vDdube42w27FowzzsFOwjb8q/Njdk8g8YxnotHisdT01bibSbW3lDvFJEEVwjIxVgGwMjIODgcdhWTxVug+U2t93/AM8If+/x/wDiaN93/wA8If8Av8f/AImqf9laf/z4Wv8A35X/AApf7K0//nxtv+/K/wCFT9bXYOUt77v/AJ4Q/wDf4/8AxNG+7/54Q/8Af4//ABNVP7K0/wD58bX/AL8L/hWfo+m2MlrMXs7diLucAmIHgSsAKf1tdg5Tb33f/PCH/v8AH/4mjfd/88If+/x/+Jqp/ZWn/wDPjbf9+V/wo/srT/8Anxtv+/K/4Uvra7Bylvfd/wDPCH/v8f8A4mjfd/8APCH/AL/H/wCJqn/ZOnf8+Ft/35X/AApf7K0//nxtv+/K/wCFP62uwcpb33f/ADwh/wC/x/8AiaN93/zwh/7/AB/+Jqp/ZWn/APPhbf8Aflf8KzrbTbE+IL9TZ25VYYSF8pcAkvn86Pra7Bym5vu/+eEP/f4//E0b7v8A54Q/9/j/APE1U/srT/8Anxtv+/K/4Uf2Vp//AD423/flf8KPra7Bylvfd/8APCH/AL/H/wCJo33f/PCH/v8AH/4mqn9laf8A8+Nt/wB+V/wo/srT/wDnwtf+/K/4Uvra7Bylvfd/88If+/x/+Jo33f8Azwh/7/H/AOJqp/ZWn/8APha/9+V/wrOuNNsRr1igs7cK0UxK+UuCRs/On9bXYOU3N93/AM8If+/x/wDiaN93/wA8If8Av8f/AImqn9laf/z423/flf8ACj+ytP8A+fG2/wC/K/4UfW12DlLe+7/54Q/9/j/8TRvu/wDnhD/3+P8A8TVT+ytP/wCfG2/78r/hSf2Tp3/Phbf9+V/wpfW12DlLm+7/AOeEP/f4/wDxNG+7/wCeEP8A3+P/AMTVP+ytP/58LX/vyv8AhXBfF63hsfBcctlFHbyfa4xviUIcYPGRih4xJXsZ1H7ODkek77v/AJ4Q/wDf4/8AxNG+7/54Q/8Af4//ABNcrrN7Z6O8KR6Lb3SiFri4chE8qFSoYj5fmb5unHTr6utL+xub61t20GOMXFzcQb2SMhPKzyQP723p279qr61pexaV1c6jfd/88If+/wAf/iaN93/zwh/7/H/4mqf9laf/AM+Nt/35X/Cl/srT/wDnwtv+/K/4VP1xdh8pb33f/PCH/v8AH/4mjfd/88If+/x/+Jqn/ZOn/wDPha/9+V/wpH0rT9jf6DbdP+eK/wCFH1tdg5S7vu/+eEP/AH+P/wATRvu/+eEP/f4//E1i6HptjJ4e055LK3ZmtYizNEpJOwZJPer/APZWn/8APjbf9+V/wpvFrsHKW993/wA8If8Av8f/AImjfd/88If+/wAf/iaqf2Vp/wDz42v/AH4X/Cj+ytP/AOfG1/78r/hR9bXYOUt77v8A54Q/9/j/APE0b7v/AJ4Q/wDf4/8AxNVP7J0//nwtf+/K/wCFJ/ZWn4/48LX/AL8r/hS+trsHKXN93/zwh/7/AB/+Jo33f/PCH/v8f/iaw9J02yc3u+zt223bgZiBwOOOlaP9laf/AM+Nr/35X/Cm8Uk9g5S3vu/+eEP/AH+P/wATRvu/+eEP/f4//E1U/srT/wDnxtv+/K/4Uf2Vp/8Az42v/flf8KPra7Bylvfd/wDPCH/v8f8A4mjfd/8APCH/AL/H/wCJqp/ZWn/8+Fr/AN+F/wAKT+ydP/58LX/vyv8AhS+trsHKXN93/wA8If8Av8f/AImjfd/88If+/wAf/iaxItNsT4juUNnb7BawkL5QwCXkycfgK0P7K0//AJ8bb/vyv+FP62uwcpb33f8Azwh/7/H/AOJo33f/ADwh/wC/x/8Aiaqf2Vp//Pjbf9+V/wAKP7K0/wD58bX/AL8r/hR9bXYOUt77v/nhD/3+P/xNG+7/AOeEP/f4/wDxNVP7K0//AJ8bb/vyv+FH9k6f3sLX/vyv+FH1tdg5S3vu/wDnhD/3+P8A8TT7eUzQ7mUK25lIBz0JHX8KzGsLO31CweC1hjcTthkjAI/dP6CtCz/1Df8AXWT/ANDauilU9pG4mrFTU/8Aj21P/ry/pJTdT0q11e0+z3qM0e4MDHI0bKR3DKQR+Bp2p/8AHtqf/Xl/SSrYrkxbs0VEwj4O0MyO32MrvhEO1ZXCqoAAKgNhWwq/MMN8o5rU0+xt9MsY7SzQpDHnALFiSTkkk8kkkkk5JJqyaK43JvcoKKKKkArN0T/j0n/6/Lj/ANGtWjWdon/HnP8A9flx/wCjWqugGlRRRUgFFFFABWba/wDIxah/1xg/nJWkazbX/kY9Q/64wfzkqkBpUUUVIBRRRQAVnXX/ACMGn/8AXGf/ANkrRrOuv+Rg0/8A64z/APslNAaNFAopAFFFFABXnfxp/wCRET/r8j/rXodee/Gj/kRU/wCvyP8AkamWxzYr+DI66+0Ow1Z7Wa+hMj2/MeJGXPQlWAOGXKg4ORwOKjtvC2mWl5DcwrceZBPLOm66lYB5fvkgtg59DwMnGM1qxfcX6CpK05naxvH4UFFFFSUFNf8A1bfQ06mv/q2+hpgUNA/5FvTP+vSL/wBAFaNZ2gf8i3pn/XpF/wCgCtGh7gFFFApAFFFJQBnaP1vv+vyT+laVZuj/AHr/AP6/ZP6VpVUtwCiiipAKKKKYGdF/yM11/wBecP8A6HLWjWdF/wAjNdf9ekP/AKHLWjQwCiiikAUUUUAVp/8Aj8sf+u5/9FPVmz/1Df8AXWT/ANDaq9x/x+2H/Xc/+inqxZ/6hv8ArrJ/6G1enhf4ZEtypqf/AB7an/15f0kq0Kq6n/x7an/15f0kq1WOM3Q4i0Ud6K4igprttRj1wM0p+teP+Ofi5rHhvxlf6Hp+kWVxFbJGfNmlZWO9Aeg+tUkt2bUKFXETVOkrtm5pvxE8R6xpsF/p/gh5badd0TnU4l3D1wRxS6R4y1qw1TT9O1rws1lFqd/JGlwL5JAjOXkAKgZ6A15X4f8Ailr2gaBZ6VFpNhMlrGEWRpnBb3xil1L4p69qV9pdy+k6eh067F0gEzkOQrLg8dPmz+FeVTrY94m04x9nfe+tvvPW/sLHW/hO59L0V474N+MWs+I/Gmn6NqGj2NtFeFwZYZmZl2ozdD9MV7FXqtHk18PVw8/Z1VZhRRRUmIVm2v8AyMWof9cYP5yVpVm2v/Ixah/1xg/nJVIDSoooqQCiiigArOuv+Rh0/wD64z/+yVo1nXX/ACMOn/8AXGf/ANkpoDRopKWkAUUlLQAlee/Gj/kRU/6/I/5GvQzXnfxp/wCREj/6/I/61MvhObE/wmegRfcX6VJUcX+rX6VJVG8fhQUUUUFBTX/1bfSnU1/uN9Ka3AoaB/yLemf9ekX/AKAK0azvD/8AyLWmf9ekX/oArRoe4BRRRSASlpDXFeIPE/iK38Y/2H4d0/Tp9lit3JJezOmNzsuBtB/u0pSjCLnN2SDc6PR/+X//AK/JP6VpV51b6h8QLNbhhpnh9vNlaU5u5uCe33Paur8Ia3L4j8I6bq9xCkEt3CJGjQ5VTnoPyrOliKOITlRkpW7DacdzapaTNLWxIUUUUDM6L/kZ7r/rzh/9DlrRrOi/5Ga6/wCvOH/0OWtGmxBRRmikAUUUUhla4/4/bD/ruf8A0U9WbP8A1Df9dZP/AENqrT/8ftj/ANdz/wCinqzZ/wCob/rrJ/6G1enhP4ZEtypqf/Htqf8A15f0kq0Kq6nn7NqeOv2L+klUZpNXtYvMuL7TIkyF3PA4GScAf6zqSQPxrPFq7Q4mzQa5iTX3iW5aXX9DQWjiO4LKR5THorfvOD1/WtFRrciKyXenMrDIIt3II9f9ZXG42KPDfjR8Q/Fnhr4jNp2hazJZ2gs4pPLSJGG5i2TlgT2ryHUPEmt6rqk+o6lfm5upwokkeNQTtGB0AHSvqPxJ8KtP8Xat/aevW1jc3flrF5gE6fKOgwsoHesn/hQXhn/oG2X/AH8uf/j1fW4LMsopYaNLE4fmkt3ciE8RRqe0pT5WfNX9r6h/z3X/AL9ik/tfUP8Anuv/AHwK+lf+FBeGf+gbZf8Afy5/+PVU034F+HLm3ld9OsyVuJYxmS56K5A/5be1dP8AaPD/AP0Cfidv9p5n/wA/3958+WPiPWdL1O31DTr4291bEmKVY1yuQVPB46E19DfALxhr/iyDXD4j1J79rWSFYi6Ku0MGz90D0FWf+FBeGf8AoG2X/fy5/wDj1dH4U8Ap4JjuU8Nx2Fot0ytKCkz7iuQPvSnHXtXn5ljsrrYf2WEocku9zknUr1qntK0+ZnbUVl+Xrv8Az9af/wCA7/8AxdHl67/z86f/AOA7/wDxdfMWXcZqdqzbX/kY9Q/64wfzkpvl67/z86f/AOA7/wDxdZ1tHrf/AAkF/i40/Pkw5P2d8H7+P46aQHS0Vl+Xrv8Az86f/wCA7/8AxdHl67/z86f/AOA7/wDxdKwGpRWX5eu/8/On/wDgO/8A8XR5eu/8/On/APgO/wD8XRbzA1Kzrr/kYdP/AOuM/wD7JTPL13/n50//AMB3/wDi6z7mPW/7fsM3Nhu8qbH+jv8A7H+3TSA6Sisvy9d/5+dP/wDAd/8A4ujy9d/5+dP/APAd/wD4ulygalFZfl67/wA/On/+A7//ABdHl67/AM/On/8AgO//AMXRbzA1K88+NH/Iip/1+R/yNdf5eu/8/On/APgM/wD8XXB/F1NTXwXH9smtHj+1x8RQspzhu5Y8VEl7pzYn+Ez0yL7i/SpKwzLqsJhjkv8ATI3lyI1aBgWIGTj5+eATRBd6ldMgttS0qUvGJVCROcoejD9509+9Xy6G8fhRuUZrL8vXf+fnT/8AwHf/AOLo8vXf+fnT/wDwHf8A+Lo5SjUpsn+rb6Gs3y9d/wCfnT//AAHf/wCLpHj13y2/0nT+h6W7/wDxdNLUCTQP+Rb0z/r0i/8AQBWjXOaFHrf/AAj2nbLnT9v2WLGbdz/AP9ur/l67/wA/On/+A7//ABdDWu4GpSVmeXrv/Pzp/wD4Dv8A/F0eXrv/AD86f/4Dv/8AF1NgMT4o6tf6H8OdV1DSbhra7iWPy5lUMVzIoPBBHQmvn6Lxl4uh1l9U/t5pbuSBbdpJraNvkBLAYAA6k19Ga5oF94j0a40rV3sJ7O4AEkYhlTdggjkSAjkDoa47/hRegf8APna/9/rr/wCPU5041IckrW9Lnq5fisJQUliaXPfbW1jzFviR43ZSp1qHBGP+PJKo6b4w8X6RpkFhYeJbiK2gXZHGsERCj8VJr1DT/gpodwbrfaW58u4dBma54AxxxNVz/hRegf8APna/9/rn/wCPVlSw0KGlOyv2SPUeZ5T/ANA34nSfCvV7/XfhzpmoavctdXcplEkzKAWxIwHA46AVo+OtQutJ8Aa5f6fKYbq2spZIZAAdrBSQeeKi0Lw9e+G9Hg0vR30+Gzt8+WhhlYjJJPJkJPJNTappGpazpVzp2oy6fLa3UZimTyJF3KRgjIfNdScedN7Hy82m24nyuPjD8QSB/wAVNNyP+eEX/wATR/wuH4g/9DPP/wB+Iv8A4mvbv+FBeGf+gbZf9/Ln/wCPUf8ACgvDP/QNsv8Av5c//Hq+3jnORqKTwmvqcns6v8x4aPi149W5a4HiSbzXQIW8iLlQSQPu/wC0ak/4XD8Qf+hnn/78Rf8AxNexJ8CvDba1Pbf2dZ7Et43A8y56lnB/5bf7Iq5/woLwz/0DbL/v5c//AB6r/trIv+gT8Q9nV/mPER8YviCrKT4mmIyMgwRc8/7tfYcRzGhPXaOteVj4B+GlYEabZZByP3lz1/7/AFehrFriqALnT8AY/wCPd/8A4uvnM3xeCxU4ywlPkS3NYRkl7zuatFZfl67/AM/On/8AgO//AMXR5eu/8/On/wDgO/8A8XXh2NS3P/x+2P8A13P/AKLerNn/AKhv+usn/obVlRrqS6lZfbprV081sCGJlOfLfuWNatn/AKhv+usn/obV6WF0pkS3Kmp/8e+p/wDXl/SSqXiTTbnVNJFvZJbtMs8Mo+0E7RskVieATnAP51d1P/j21P8A68v6SVaH9axxbs0OJw58I6vHcxXMMtg0ljI32RHRtsqP5mTLj+IeZxjPIJ7mut0qy/s7SLSy3mT7NCkW8jG7aoGauUVyOTasUFGKKKgAxWbon/HpP/1+XH/o1q0qzdE/49J/+vy4/wDRrVS2A0aWiipAKKKKYBWba/8AIxah/wBcYP5yVpVm2v8AyMeof9cYP5yU0BpUUUVIBRRRQAVnXX/Iw6d/1xn/APZK0azrr/kYNP8A+uM//slNAaNFFFIAooooADXnfxp/5EWP/r8j/rXohrzz40f8iKn/AF+R/wAjUz+E5sT/AAmdNq2mXV9f6XcWsVq6WrSGXzyckNEyADAPGW5ql4Z0DUNJurV7xbIJFpkVo5t2bcXRj0yo+XBrpovuL9KkrXmdrG8fhQYoooqCgpH/ANW30pabJ/q2+lNAUPD/APyLWmf9ekX/AKAK0az9A/5FvTP+vSL/ANAFaFD3AKKKKQBQaKDQBmaP1v8A/r9k/pWnWbo/3r//AK/ZP6VpVUtxBiiiikMKMUUUgM6L/kZrr/rzh/8AQ5a0Kz4v+Rmuv+vSH/0OWtGmwEpaKKQBRRRQBXuP+P2w/wCu5/8ART1Ys/8AUN/11k/9Daq0/wDx+2P/AF3P/op6s2f+ob/rrJ/6G1enhP4ZEtypqf8Ax7an/wBeX9JKtCqup/8AHtqf/Xl/SSrQrHGbocRaKKK4ygo4pDXBeJfi74f8MeIp9Gv7fUZbq3CM5t7feoDLkc5Hamk2VCEqkuWCuzvqzdE/485/+vy4/wDRrVwH/C/PC3/PjrX/AIBj/wCKqppvxy8NWttKktjrGWuJZBi0HRnLD+L0NVys6PqWJ/59v7meuUVwHh74weHvEniK10axt9Siubot5ZuLcIvyqWPOfQGu/qXFo55wnTlyzVmFFFFSSFZtr/yMeof9cYP5yVpVm2v/ACMWof8AXGD+clUgNKiiipAKKKKACs66/wCRg0//AK4z/wDslaNZt1/yMGn/APXGb/2SqQGlRSUtSAUUUUAFeefGj/kRY/8Ar8j/AK16Ga88+NH/ACIsf/X5H/I0p/Cc2J/hM9Ai/wBWv0p9Mi/1a/Sn1RvH4UFFFFIoKa/+rb6GnU2T/Vt9KaAoaB/yLemf9ekX/oArRrO0D/kW9M/69Iv/AEAVo0PcApKWikAUGkBpaYGbo/W//wCv2T+laVZuj9b/AP6/JP6Vo5pvcQtFFFSMKKKM0AZ0X/IzXX/XnD/6HLWjWdF/yM91/wBecP8A6HLWjTYBRRRSAKKKKAK9x/x+2H/Xc/8Aop6sWf8AqG/66yf+htVa4/4/bH/ruf8A0U9WbP8A1Df9dZP/AENq9PC/wyJblTU/+PbU/wDry/pJVsVT1Pi11P8A68v6SVXGteum6h/34/8Ar1li1docTUoPSsz+2/8AqG6h/wB+P/r0n9tZ/wCYbqH/AH4/+vXFYo86+InxsPgTxYdEXQjfkW6TGb7T5f3s8Y2n0rwrxV4+k8S+Lr3W/wCzPs4uljHlefu27EC9cD0r1H4o/DPXfHHjY61paGCFraOHZcQPuypbnjIxzXHf8KE8Wf8APWD/AL8yf4V9rl9Dh+eFX1yTU3vYKGLxWEre1oOzRxf/AAkj/wDPn/5E/wDrUn/CSSdrP/yJ/wDWrtf+FCeLP+esH/fmT/Corb4G+KbqN2jkhAWR4zmGTqrEHt7V1/UeE/55Hq/6y5z/AD/gjC8M+On8PeLNP1v+zfP+xl28rztu7chXrg+tfTHwx+Iv/CxdJvb3+zTp/wBluBCU87zN3yg5zgeteE/8KE8Wf89YP+/Mn+FesfCHwzqXw+0TULPVree5kuroTKbeBsKNgGOcc8V5ebUckhQX9nyblfr2PMrYvE4us6uId2eq0tZf9tf9Q3Uf+/H/ANel/tr/AKhuo/8Afj/69fJ2INOs21/5GPUP+uMH85KT+2/+obqH/fj/AOvWdbaxjxBfn+zr/mGDjyOR9/3qkhnSUVmf21/1DdR/78f/AF6P7a/6huo/9+P/AK9TYDTorM/tr/qG6j/34/8Ar0f21/1DdR/78f8A16LAXL24NrYXFwqhjFEzgE4zgZrzbTvEXjrXbbTdbttH0NIpbcyRo95LkrIFIz8nB4rtr3UzdWFxbjT9QUyxMgY2/TIxnrXnGnWPjnRLXTtFtry1aKKAxxM+kuW2oFAz+8561zYlYrk/2W3N59hx5b+8dJZ+K/FUHinR9N8QaVpcVvqUskQltLp3ZSsTSZwVA/hx+Nd7XmFlpfiiXxRpGpa/Mtxb6bLJKsVrprxs5aNo+pc9N2fwrvP7a/6huo/9+P8A69aUFX9kvb25utthO19DTorM/tv/AKhuof8Afj/69H9t/wDUN1D/AL8f/XrWwGnXnfxp/wCREj/6/I/612P9tf8AUM1D/vx/9euC+L2o/avBUafY7uH/AEuM7poto6N3zUyT5TmxX8KR6ZF9xfpUlZEes4Rc6bqHT/nh/wDXp/8Abf8A1DdQ/wC/H/16uzN4/CjUorM/tr/qG6j/AN+P/r0f21/1DdR/78f/AF6VmUaLHCE+lcFbfFJdQsxcWHhPxBc28mfLmjgj2uMkZHz9OK6p9ZLRsBpmodP+eH/168u8Oap428O+HLXSm+Ht9c/ZVZfNF5Eu8bic4zx1rlxcsTTpqWGgpSv1dhx5b6nSaV8QvsFrpGn6l4a1uy8wwWXnzwoIxI2EGSHJxn2r0GvHbrVvFnif+xw3ga+tLRb+1vGuTdRyYjRw+do5PFenjWsD/kGah/34/wDr1WGliKlLmxEFGXZO4NJPQ1KQms3+2v8AqGah/wB+P/r0h1nP/MN1Af8AbD/69dKVyTjbv43+EbO/ubOU6i0ttM8MhSzZl3KcHB+oqE/Hjwf6ap/4At/jXleo+AvGcmuanPB4XvJIri9mmjYSRjKs7EfxccGq/wDwgHjj/oU73/v5F/8AFVUuZPSP4n1OHy/Kp0oyqYm0nurbHqOnfG/wnb/avNXU/wB7cvIuLJjkHGP5V1PhL4kaD401C4stFa6863jErie3Mfyk4yM9ea8Ci8D+M59/leFrxtjlGxJFww6j71d18JfD/iHwx4p1C/13w/e20M1msKFdjksHz0VuOO9C5nvG3zOfH4HLqNHnw9fml2PcKxfFviiz8HeGrnW9SjmltrcrvWBQXO5gowCQOpFWP7a/6huof9+P/r1xvxWt9S8U/DjUNJ0XR76a8naIxo8YQHbIrHknA4Bq6MIyqJT0V9T553toYP8Aw0r4T/6Bmsf9+U/+Lo/4aV8J/wDQM1j/AL8J/wDF14v/AMKi+If/AEKtx/3+j/8AiqP+FQ/EP/oVbj/v9H/8VX3qyvhu2uJf9fI5eet2PXk/aL8LLrE12dN1bZJBHGB5KZBVnJ/j/wBoVa/4aW8J/wDQM1j/AL8p/wDF14mPhT4/Nw1uPDFwZVQOV86PhSSAfvf7JqT/AIVD8Q/+hVuP+/0f/wAVT/svhv8A6CX/AF8g563Y940D4++GvEPiCx0i0sNUjnvZhFG0sSBQT0yQxr1IGvlPwP8ADTxvo/jzRdT1Pw1cxWlndpLK6yRsQo9g3NfTX9tf9QzUP+/H/wBevk82w+CoV+XBT5oW3N6bk17xp0Vmf21/1DdR/wC/H/16P7a/6hmof9+P/r149maFq4/4/bD/AK7n/wBFPVmz/wBQ3/XWT/0Nqyo9QN3qVkn2O6hxKx3TRbR/q39+tatn/qG/66yf+htXp4X4CJblTU/+PfU/+vL+klZ3iqW4g0YSWbXSyC5gz9miLsV81dwIAJxtzn2rR1P/AI9tT/68v6SVbrLFu0kOJ51ez6tNeXAiOsttvJxalI3QebmPyw3AzFjfyfl655xXog96XFFccpcxQUUUVIBWbon/AB5z/wDX5cf+jWrSrN0T/jzn/wCvy4/9GtTWwjRpaSlpDCiiigArNtf+Ri1D/rjB/wCz1pVm2v8AyMeof9cYP5yU0BpUUUUgCiiigArNuh/xUOn/APXGf/2StKs66/5GHT/+uM//ALJQgNGiiigAooooADXnfxo/5EWP/r9j/ka9ENeefGj/AJEWP/r8j/kamXwnNiv4Mja8TzajFJpq6UbozOs4CxRloy3kPs3nBA+bbjPH5VnaJNfR6tpqI2s/YJLmbYt5E5JTyV5kZhkfvN20MR19MV20X3F+lSVrzWVjePwoBRRRUFBTX+430p1Nf/Vt9KFuBQ0D/kW9M/69Iv8A0AVo1neH/wDkW9M/684v/QBWjQ9wCkpaKBCUtFBoGZuj9b//AK/JP6Vo1naP1v8A/r9k/pWlTluIKKKKQBRRRQMzov8AkZ7r/rzh/wDQ5a0azov+Rnuv+vOH/wBDlrRpsQUUUVIwooooArXH/H7Yf9dz/wCinqzZ/wCob/rrJ/6G1V7j/j9sP+u5/wDRT1Ys/wDUN/11k/8AQ2r08J/DIluVNT/49tT/AOvL+klWhVXU/wDj21P/AK8v6SVaFZYzdDiLRSUtcRQUUUd6QBWbof8Ax5z/APX5cf8Ao1q0qzdE/wCPSf8A6/Lj/wBGtVLYRpUUd6KkYUUUUAFZtr/yMeof9cYP5yVpVm2v/Ix6j/1xg/nJVIDSoooqQCiiigArOuv+Rg0//rjP/wCyVo1nXX/Iw6f/ANcZ/wD2SmgNGiiikAUUUUABrzz40f8AIix/9fkf8jXodeefGj/kRY/+vyP+tKfwnNif4TPQIv8AVr9KfTIv9Wv0p9Ubx+FBRRiikUFNk/1bfSnU1/uN9DTQFDQP+Rb0z/r0i/8AQBWjWfoH/It6Z/16Rf8AoArQxQ9wCiikNIBaDSUvagDN0f71/wD9fsn9K0qzdH+9f/8AX7J/StKqluAUUUVIBRUNxdQWkfm3U0cEYOC8jhR+Zqr/AG9pH/QVsv8AwIT/ABqrMLN7CRf8jNdf9ecP/octaNc9Frmk/wDCSXLf2pZbTaQgH7QmPvy+9aH9v6R/0FbH/wACU/xoaYWZo0VHFLHPGskLrIjDKspyCPWpKWwBRRRSArXH/H7Y/wDXc/8Aop6s2f8AqG/66yf+htVa4/4/rD/ruf8A0U9WbP8A1Df9dZP/AENq9PC/wyJblTU/+PbU/wDry/pJVqqup/8AHtqf/Xl/SSpvtEP/AD2j/wC+hWWLV2hxJKRmVELOwVRySTgAU37RD/z2j/76Fc/48niPw68RASoSdLucfMP+ebVyRjzSSGbf9o2X/P5b/wDf0Uf2jZf8/lv/AN/Vr4EDWmwZ2ZxRvtP9ivuIcJQnFS+swRzOvrsfff8AaNl/z+W//f1aztF1CzFpPm7gH+mXH/LQf89Wr4V32n+xRvtP9j8qv/VGH/QVD7w9u/5T77Go2XQXlvn/AK6irAOa+ArR7b7db+WVDecmMf7wr73S4hCD99H0/vCvm82ytZdUUFUU79janPnV7E9Zus+INJ8PQRz65qNtYQyPsR7iUIGbGcAnvxV37RD/AM9Y/wDvoV5H+0AVm0DQzGjXAjvyXESF9o8phkgZryIxuzpo01UqRhJ2Te53H/CzfBH/AENek/8AgWn+NZ9v8SPBi67fSN4n0oRvFCFb7UmDjfkde2RXzXlP+fO4/wDAV/8ACkDxliBaXGR1H2V+P/Ham7/kZ9V/q/hP+guP9fM+pP8AhZ3gj/oatJ/8C0/xrpopUniSSJw6OoZWU8MD0Ir4wvAJLKZI7K4LMhC4tX64+lfX2hyxp4e05WkRStrECC2MfKKq3u3tY8TMsDSwc1GnVU79jVo71F9oh/57R/8AfQpftEP/AD2j/wC+hU2Z5Y5mCKWYgADJJOMVjXWoWR8QaeRdwYEU3Pmr/sUzxjPEfA+uhZUJOnXGAGH/ADzavI9HvPg8NDsRe/2D9pFvH5u+IFt+0Zzx1zmubE4h4aKlySlfsrlRjzM9yjvbWWQJFcwu56Krgk/hU9eI6Vd+AH+JPhX/AIQxtLW4FzOZjaKFOz7PJjJwOM4r2v7RD/z2j/76FXRqOtTVTlcb9GrMTVmSc0VH9oh/57R/99Ck+0Q/89Y/++xW1mIlrzv40f8AIip/1+x/yNd/9oh/57R/99CvPfjNKj+BkCSKx+2x8BvY1Ml7pzYn+Ez0OL/Vr9KkqCOeEIuZU6f3hT/tEP8Az2j/AO+hVam8fhRJRUf2iH/nsn/fQo+0Q/8APaP/AL7FFih5OFJPYVxj/FnwTtdRrsZPK8QSHkcf3a657iExsBKnI/vCvIPCPi+30LwnY6bf6LrouLZWWTy9LlZc7ieDjnrXLi61WhT5qVNzfZFRSb1Z1Xhz4leEpbDSdNTWE+2SRw26xGGQZkIChclcdeK7oHNeQat4qtvEr6Lb6ZpWsAnVbScyzadJHGI1kDFixGAMc5r1sXEP/PaP/voVWGq1a1Pnq03B9mKSSehLzRUf2iH/AJ7R/wDfQpPtEP8Az2j/AO+hXRZiJKKj+0Q/89o/++hS/aIf+e0f/fYoswKOj9b/AP6/ZP6VpVk6PcQ5v8yp/wAfkh+8PatH7TD/AM9k/wC+hVSTuBJVTU9VsdGsHvtWu4bO1jxvmmcKi5OBkn3NWPtEP/PaP/voV578cT9q+EWqxW376RmhIjj+Zj+9U9Bz0q6NNVKihJ2TYm7I5r4z+NvCmu+AfsWma9pt9Mb2BjDDOrkqG5OAeleJB9F/6dP++RWF/Z13/wBA67/8Bn/wpf7PvP8AoH3f/gM/+FfdvhTBSStjUv69T0MuzyWBi4+xUr9zd36L/wBOn/fIprvouxv+PTOPQVh/YLrcR9gusjkj7O/H6Uv9n3f/AED7v/wGf/CpXCWDTv8AXl/XzPSlxXOUWvq0fuPqz4YeNfDLeB/DejprtgdR+xxQ/ZBOvmb8fd29c+1ejivjL4bWN1H8UPDkj2VxGiX6MzvCyhRz1JFfZP2iH/ntH/30K+ZzfAU8FiPZ0qimu6Pm4zc/easS0lR/aIf+esf/AH2KX7RD/wA9o/8AvsV49mWR3H/H7Y/9dz/6LerFn/qG/wCusn/obVUllje+sQkisfOPAIP/ACzerdn/AKhv+usn/obV6eF/hkS3Kep82up/9eX9JKxtdsrOxgt00/SdL+03U/kxvcQKI0O1mJbAz0Q/iRW1qf8Ax7an/wBeX9JKW+0+01S1a21G2iuYGILRyqGUkHI4PvWWKdpIcTh01OK7WKO08P6PDLcpbtC86AoN8UkjE4XPHlkDHXIPtXT6Xp+kano9penR7JPtMCS7Ps6HG5QcdPeppvDOiXHnefpVrJ9oCCUNEDvCDCZ+g6VpoixoqIAqqAAAOAPSuWUl0KM//hHtF/6BFh/4Cp/hR/wj2i/9Aiw/8BU/wrSpKnnl3FYzv+Ee0X/oEWH/AICp/hWfo2gaO1pMX0mxYi7nAJtk6CVvauixWbon/HnP/wBflx/6NampytuAf8I9ov8A0CLH/wABk/wp/wDYWk/9Auy/8B0/wq9S1Lk3uwKH9haT/wBAuy/8B0/wo/sPSR00uy/8B0/wq/RSTaGUP7E0r/oGWf8A4Dp/hWdbaNpZ8Q36nTbTaIYcDyF4+/7V0FZtr/yMWof9cYP5yVSbAf8A2HpP/QMs/wDwHT/Cj+wtJ/6Bdl/4Dp/hV+ipuwKH9haT/wBAuy/8B0/wo/sLSf8AoF2X/gOn+FX6Si7AoHQdII50qyI7/wCjJ/hWbc6Bo41+wX+yrHaYpiR9mTn7ntXQ1n3X/Iwaf/1xn/8AZKqMmADw/owbI0mxB9rZP8Kd/YWk/wDQLsv/AAHT/Cr/AGpKm7Ao/wBhaT/0C7L/AMB0/wAKP7C0n/oF2X/gOn+FXqKLsCh/YWk/9Auy/wDAdP8ACuC+MGmWFp4JSS0sraCT7XGN0cSqcYPGQK9MNee/Gj/kRU/6/Y/5GplflObE/wAJmjr7WmkywJZ6Lpcipbvcz+dCoLRqVG1MDlju78ce9UbPUYp2hMmgaOUuJLZ49kYzHDM7Jhsry429Bgcn057G40ux1BrWW+tIbh7Zg8LSoGMbeoz06D9PQVCfDWind/xK7UbrgXLYiAzKOj/Uetbcysbx+FEo0LSf+gXZf+A6f4Uv9haT/wBAuy/8B0/wq9RWdyij/YWk/wDQLsv/AAHT/Cmvoek7G/4ldn07W6f4VoUkn3G+lNNgYWg6JpTeHdNZtMs2JtIiSbdOfkHPStD+wtJ/6Bdl/wCA6f4U3QP+Rb0z/r0i/wDQBWhQ27gUP7C0j/oFWX/gOn+FL/YWk/8AQLsv/AdP8Kv4o7UrsCh/YWk/9Auy/wDAdP8ACk/sLSf+gXZf+A6f4VfpaLsDntI0TSmN9u0yzbF5IBm3Q4HHtWl/YWk/9Auy/wDAdP8ACmaP96//AOv2T+laVOTdwKH9haT/ANAuy/8AAdP8KT+wtJ/6Bdl/4Dp/hV+lpXYih/Ymlf8AQMs//AdP8KP7E0r/AKBln/4Dp/hV+kp80u4zBj0XS/8AhJbkf2baY+yQkDyFxnfL7Vof2JpX/QLs/wDwHT/Cmxf8jNdf9ecP/octaFNyl3EUToelH/mGWf8A4Dp/hR/YWk/9Auy/8B0/wq/RipuxlD+wtJ/6Bdl/4DJ/hR/YWk/9Auy/8Bk/wq9S4ouwM1dNsbPUbKS0s7eBzMQWiiVTjy34yB0rSs/9Q3/XWT/0Nqr3H/H7Y/8AXc/+i3qxZ/6hv+usn/obV6eF/hkS3Kmp/wDHtqf/AF5f0kq0Kq6n/wAe2p/9eX9JKtCscZuhxFoNFFcJQlKaSigArO0T/jzn/wCvy4/9GtWjWdon/HpP/wBflx/6NaqWwjRpaKKkYUUUUAFZtr/yMWof9cYP5yVpVm23/Ixah/1xg/nJVIDSoooqQCiiigArOuv+Rg0//rjP/wCyVo1nXX/Iwaf/ANcZ/wD2SmgNCl7UlLSAKKKKADtXnfxp/wCREj/6/I/616HXnnxp/wCREj/6/I/60p/Cc2J/hM9Ai/1a/QVJUcX3F+lSUzePwoKSlooKCmyfcb6U6mv/AKtvpTQFDQP+Rb0z/r0i/wDQBWhWf4f/AORa0z/r0i/9AFaND3ASilopAJS0UUAZuj/ev/8Ar9k/pWlWbo/3r/8A6/ZP6VpVUtwCiiipAKKQ471wWqa94sufGup6T4el0mC2sIoGLXkMjs5kUnqrAfw+lRUqQpQdSo7JAk27I62L/kZrr/rzh/8AQ5a0a8yvrn4g6bHe6s174edo7X5kFrNyse5sD5+vzGuy8H6xP4g8F6Rq94qJPe2kc8ixjCgsuTj86ihiaGKi5UZKSQ3Fx3Nuik4pa2EFFFFAFe4/4/LD/ruf/RT1Ys/9Q3/XWT/0NqrXH/H7Y/8AXc/+inqzZ/6hv+usn/obV6eF/hkS3Kmp/wDHtqf/AF5f0kq0Kq6n/wAe2p/9eX9JKtZrLF7ocRaKM0lcRQuaK+fPjz408S+HvHVjZ6DrV1p9u+nrK8cDAAuZHGeR6AV5l/wtHx3/ANDXqH/fa/4V9RgOF8dj6Cr0rWfmYSrxi7M+0KzdE/485/8Ar8uP/RrV8gf8LS8d/wDQ16h/32v+FNi+JnjeFSsXii/QMxcgMvUnJPT1Nd/+pOZ94/eT9ZgfadGRXxf/AMLR8d/9DXqH/fa/4V7T+z74p13xLBr3/CQapcagbd4BEZiDsBDZxgewrzMy4bxmW0fbV7W8mXCtGbsj2ekyKCeK86+L/i7WfCej6XL4fnhhmurswu0sXmALsZuh+lfOpXZ006cqs1CG7Nfxlr+t6Zq2jab4disHuNRabc18H2qI0DcbTnvWRHL8RY76e6H/AAjJaZUUgrcYG3djv/tV4/ffEHxjqOqWOoXOpWpnsPM8grZAAb12tkZ54qz/AMLP8bj/AJidn/4Ar/jXkYyWMc19VlHl87/5H0MeG8wtrT/FHu3gbXtS1/S719ajtY7uzv5bRxabvLbZjkbjnvXT18q2PxH8Y+HrO+ew1K0xPPJdyK9mDl25OOeBxX07pVw93o9nczEGSaBJHwMclQTxXqR1he9/Q8nG4DEYKSjXja5dooozQcAVnXX/ACMGn/8AXGb/ANkrRzWbdH/iotP/AOuM3/slNAaVFGaM0hhRRmjNMArzz40f8iKn/X5H/I16FmvPPjR/yIqf9fsf8jUy+E5sT/CZ6BF9xfpUlRx/cX6VJVG8fhQUUUUigpsn3G+lOzTZP9W30NNbgUNA/wCRb0z/AK9Iv/QBWjWdoH/It6Z/16Rf+gCtGh7gFFFFABQaOKSgDO0f71//ANfsn9K0qzdH63//AF+Sf0rS/GnLcApKWuG+MWr3+hfC/U9Q0e7ks7uNogk0Zwy5kUHr7H9aulTlVmoR3Ym7K4fFrxFqnhjwR9v0K4W2uzdwxCRow4AY4PBGK8Lj8ceMItWu9TTWo/tV4sazN9jjwQgIXjHHBNcbq/jfxTr1j9i1nX727t94cxyOMbh0PA9axvtF1/z+T/8AfdfX1OCcxq0+W0Wn3aZ6OXZll1CLWKpOb6dD1C5+IHjS8s5rWfW4jFNG0bgWMYypGD296TS/iD410PRrXTdO1yJLW0iWKFDZRthQMAZIya8w+0XX/P5N/wB90faLo/8AL5Mf+B1lR4FzKgrU1BLyselPOMja0w7v6n2x4G1O61nwJoupai6yXV1ZxyzOFChmIyTiugr5I+GXjfxQnjXw3ov9uXZ0s3McH2UsNnl8/L06V9bCvFzTLa2XV/ZVt99D5qM4z1jsLRRmivLLK1x/x+2H/Xc/+inqzZ/6hv8ArrJ/6G1Vp/8Aj9sf+u5/9FPVmz/1Df8AXWT/ANDavTwv8MiW5Wvrd7tNQtojtea0EaknGCd4HPOKp/2Hcf8AP7d/+Bh/+IrYktoJm3TQxyNjGWQGmfYbT/n1h/79it5QjPckyv7DuP8An9u//Aw//EUf2Hcf8/t3/wCBh/8AiK1fsNp/z6w/9+xR9htP+fWH/v2Kj2MOw7nD+IfhH4f8V38d74gtZ724jjESSPqEikJknHygDqT+dZX/AAz74H/6A8n/AIM5q9N+w2n/AD6w/wDfsUfYbT/n1h/79iumFSpTjywk0vUVkzzL/hnzwP8A9AiT/wAGc1IP2fPBABzpMrc551KavTvsNp/z6w/9+xR9htP+fWH/AL9ir9vX/nf3sVl2PMv+GfPA/wD0B5P/AAZzVu+HPhjpHhFLhfDkdxYi5IMoS/kbeR0zuB9TXYfYbT/n1h/79ij7Daf8+sP/AH7FZ1Jzqx5ZybXmxqy2Mr+wrj/n9u//AAMP/wARXO+L/hknjGytbe91O+hFtL5yMlyGOdpH8UZ9a7f7Daf8+sP/AH7FH2G0/wCfWH/v2Kw9jDsVGcotST1R4/8A8M82f/Qf1P8A7+x//GqP+GebP/oP6n/39j/+NV7B9htP+fWH/v2KPsNp/wA+sP8A37FT7Cn2O7+0sb/z9l97PHZP2dbGWNkfXtTKsMEebH0/79V6PaeGprSzht0vrsrCixqfth5AGP7ntW39htP+fWH/AL9ij7Daf8+sP/fsU/YwtZI562JrV3erJy9TK/sO4/5/bv8A8DD/APEUf2Hcf8/t3/4GH/4itX7Daf8APrD/AN+xR9htP+fWH/v2KPYQMLsyv7DuP+f27/8AAw//ABFRP4ble6jna8u98YZVP2w8A4z/AAe1bX2G0/59Yf8Av2KPsNp/z6w/9+xR7GAXZlf2Hcf8/t3/AOBh/wDiKP7DuP8An9u//Aw//EVq/YbT/n1h/wC/Yo+w2n/PrD/37FHsIBdmV/Ydx/z+3f8A4GH/AOIo/sO4/wCf27/8DD/8RWr9htP+fWH/AL9ij7Daf8+sP/fsUewgF2ZX9h3H/P7d/wDgYf8A4iqGseCINesxaapLc3EAcPsa9Ycjp0Wuk+w2n/PrD/37FH2G0/59Yf8Av2KPYQ7CeqszJGg3CgAXt3gf9Ph/+Ipf7DuP+f27/wDAw/8AxFav2G0/59Yf+/Yo+w2n/PrD/wB+xR7GHYdzK/sO4/5/bv8A8DD/APEUf2Hcf8/t3/4GH/4itX7Daf8APrD/AN+xR9htP+fWH/v2KPYQ7BdmV/Ydx/z+3f8A4GH/AOIpDoVwQR9tu+f+nw//ABFa32G0/wCfWH/v2KPsNp/z6w/9+xR7GAXZi2/huW1tYreK8uxHEgRB9sPAAwP4Kl/sO4/5/bv/AMDD/wDEVq/YbT/n1h/79ij7Daf8+sP/AH7FHsYBdmV/Ydx/z+3f/gYf/iKP7DuP+f27/wDAw/8AxFav2G0/59Yf+/Yo+w2n/PrD/wB+xR7CAXZlf2Hcf8/t3/4GH/4ij+w7j/n9u/8AwMP/AMRWr9htP+fWH/v2KPsNp/z6w/8AfsUewgF2YsHhqW38zy7y7HmOZG/0w8k/8AqX+w7n/n9u/wDwMP8A8RWr9htP+fWH/v2KPsNp/wA+sP8A37FHsYBdmV/Ydx/z+3f/AIGH/wCIqhrXge28Q6VNpmsvc3dnNjfE164DYII5Cg9QK6T7Daf8+sP/AH7FH2G0/wCfWH/v2KapRTugueZf8M+eB/8AoDyf+DOaj/hn3wP/ANAeT/wZzV6b9htP+fWH/v2KPsNp/wA+sP8A37FdXt6//PyX3smy7HmA/Z78EByf7JlxjGP7Smp3/DPvgf8A6BEn/gzmr037Daf8+sP/AH7FH2G0/wCfWH/v2Kf1iv8A8/Jfewsux53pvwO8JaRqdvqGnadLBd2ziSKUajKSrDocHiuv/sO4/wCf27/8DD/8RWr9htP+fWH/AL9ij7Daf8+sP/fsVz1E6rvNtvzKWmxlf2Hcf8/t3/4GH/4ij+w7j/n9u/8AwMP/AMRWr9htP+fWH/v2KPsNp/z6w/8AfsVn7GHYLszLfRriHULWc3M0ixSFmWS4LjBRl4G0dyP1rTs/9Q3/AF1k/wDQ2o+w2n/PrD/37FSpGkSBI1VFHRVGAK0jFRVkI//Z)\n",
        "Fuente:http://www2.innovacioneducativa.upm.es/pensamientomatematico/node/76\n",
        "\n",
        "Si tenemos n+1 discos, primero llevamos n discos a otro de los postes. Esto nos da x movimientos. Luego llevamos el disco restante (el mayor) al tercer poste, y finalmente trasladamos los n discos menores encima del mayor. \n",
        "Total: (2*x)+1 movimientos.\n",
        "\n"
      ],
      "metadata": {
        "id": "L22HNLo5LW0K"
      }
    },
    {
      "cell_type": "code",
      "metadata": {
        "id": "rTiqLuX2ZKuL"
      },
      "source": [
        "#Torres de Hanoi - Divide y venceras\n",
        "\n",
        "def Torres_Hanoi(N, desde, hasta):\n",
        "  #N: Número de fichas\n",
        "  #desde: Poste inicial\n",
        "  #hasta: Poste final\n",
        "  \n",
        "  if N==1:\n",
        "    print(\"Lleva la ficha desde \" + str(desde) + \" hasta \" + str(hasta))\n",
        "\n",
        "  else:\n",
        "    Torres_Hanoi(N-1, desde, 6-desde-hasta) #6-desde-hasta (pivote). 6 porque siempre vamos a tener 3 postes\n",
        "    print(\"Lleva la ficha desde \" + str(desde) + \" hasta \" + str(hasta)) # 1 operación\n",
        "    Torres_Hanoi(N-1, 6-desde-hasta,  hasta)\n"
      ],
      "execution_count": null,
      "outputs": []
    },
    {
      "cell_type": "markdown",
      "source": [
        "PRUEBA 1: 1 ficha"
      ],
      "metadata": {
        "id": "2VYwZYHINKAA"
      }
    },
    {
      "cell_type": "code",
      "source": [
        "Torres_Hanoi(1, 1, 3)"
      ],
      "metadata": {
        "colab": {
          "base_uri": "https://localhost:8080/"
        },
        "id": "aOMTrSsmNIHo",
        "outputId": "611cbdd2-3a4a-448d-fe41-3d504ae6328a"
      },
      "execution_count": null,
      "outputs": [
        {
          "output_type": "stream",
          "name": "stdout",
          "text": [
            "Lleva la ficha desde 1 hasta 3\n"
          ]
        }
      ]
    },
    {
      "cell_type": "markdown",
      "source": [
        "PRUEBA 2: 2 fichas"
      ],
      "metadata": {
        "id": "Kq1pua5zSUGm"
      }
    },
    {
      "cell_type": "code",
      "source": [
        "Torres_Hanoi(2, 1, 3)"
      ],
      "metadata": {
        "colab": {
          "base_uri": "https://localhost:8080/"
        },
        "id": "Vw7nbDbmSUhV",
        "outputId": "8e4ec90c-6316-4757-e091-087abfbc7a35"
      },
      "execution_count": null,
      "outputs": [
        {
          "output_type": "stream",
          "name": "stdout",
          "text": [
            "Lleva la ficha desde 1 hasta 2\n",
            "Lleva la ficha desde 1 hasta 3\n",
            "Lleva la ficha desde 2 hasta 3\n"
          ]
        }
      ]
    },
    {
      "cell_type": "markdown",
      "source": [
        "PRUEBA 3: 4 fichas"
      ],
      "metadata": {
        "id": "Qf6kBRUdR0Ct"
      }
    },
    {
      "cell_type": "code",
      "metadata": {
        "id": "UTL6wiczQVDA",
        "colab": {
          "base_uri": "https://localhost:8080/"
        },
        "outputId": "d55b8571-072f-4720-f42d-eebfc99104e8"
      },
      "source": [
        "Torres_Hanoi(4, 1, 3)"
      ],
      "execution_count": null,
      "outputs": [
        {
          "output_type": "stream",
          "name": "stdout",
          "text": [
            "Lleva la ficha desde 1 hasta 2\n",
            "Lleva la ficha desde 1 hasta 3\n",
            "Lleva la ficha desde 2 hasta 3\n",
            "Lleva la ficha desde 1 hasta 2\n",
            "Lleva la ficha desde 3 hasta 1\n",
            "Lleva la ficha desde 3 hasta 2\n",
            "Lleva la ficha desde 1 hasta 2\n",
            "Lleva la ficha desde 1 hasta 3\n",
            "Lleva la ficha desde 2 hasta 3\n",
            "Lleva la ficha desde 2 hasta 1\n",
            "Lleva la ficha desde 3 hasta 1\n",
            "Lleva la ficha desde 2 hasta 3\n",
            "Lleva la ficha desde 1 hasta 2\n",
            "Lleva la ficha desde 1 hasta 3\n",
            "Lleva la ficha desde 2 hasta 3\n"
          ]
        }
      ]
    },
    {
      "cell_type": "markdown",
      "source": [
        "ALGORITMOS VORACES\n",
        "\n",
        "Elegir en cada etapa la decisión óptima. Las decisiones descartadas serán descartadas para siempre.\n",
        "\n",
        "CARACTERÍSTICAS\n",
        "- Elementos seleccionables por etapas\n",
        "- Solucuión parcial.\n",
        "- Función de selección del mejor candidato en cada etapa.\n",
        "- Función objetivo.\n",
        "- Función de factibilidad, que no me deje seguir adelante si la solución no es viable.\n",
        "- Criterio que pruebe que una solución paracial ya es na solución final.\n"
      ],
      "metadata": {
        "id": "5mFcda4qYG50"
      }
    },
    {
      "cell_type": "markdown",
      "source": [
        "PROBLEMA: Cambio de monedas\n",
        "\n",
        "Buscar las monedas para completar la cantidad con el sistema monetario: [25, 10, 5, 1]\n",
        "\n",
        "La función se denomina \"cambio_monedas\" y se le entrega dos parámetros: Cantidad a calcular y sistema monetario\n"
      ],
      "metadata": {
        "id": "4Gk89nELaPtU"
      }
    },
    {
      "cell_type": "code",
      "metadata": {
        "id": "YwBudj2hYoMR"
      },
      "source": [
        "#Cambio de monedas - Técnica voraz\n",
        "\n",
        "def cambio_monedas(Cantidad,Sistema):\n",
        "  #Cantidad: Valor que se requiere entregar en monedas\n",
        "  #Sistema: Sistema monetario a usar, tipo de monedas\n",
        "\n",
        "  print(\"El sistema a utilizar es:\")\n",
        "  print(Sistema)\n",
        "  \n",
        "  Solucion = [0 for i in range(len(Sistema))] #Inicializamos el array que contendrá la cantidad de monedas de cada valor\n",
        "  #Solucion = [0]*len(Sistema)\n",
        "  \n",
        "  ValorAcumulado = 0 #Inicializamos el ValorAcumulado\n",
        "\n",
        "  for indice, ValorMoneda in enumerate(Sistema): #Recorremos el sistema monetario\n",
        "                                            #La función enumerate recibe un objeto iterable y retorna tuplas en \n",
        "                                            #las que cada una contiene un elemento del objeto que recibe \n",
        "                                            #y un índice que indica su posición.\n",
        "    NumMonedas = (Cantidad-ValorAcumulado)//ValorMoneda #Calcula la cantidad de monedas de valor de Sistema[indice]\n",
        "                                                     #Función de selección\n",
        "    Solucion[indice] = NumMonedas #Añade el número de monedas a la solución\n",
        "    \n",
        "    ValorAcumulado = ValorAcumulado + (NumMonedas*ValorMoneda) #Incrementar el valor acumulado (Función de factibilidad)\n",
        "\n",
        "    if Cantidad == ValorAcumulado: #Validamos si ya hemos llegado a la solución (Criterio de solución final)\n",
        "      return Solucion\n",
        "\n",
        "  print(\"No es posible encontrar solución\")\n",
        "  return Solucion\n"
      ],
      "execution_count": null,
      "outputs": []
    },
    {
      "cell_type": "markdown",
      "source": [
        "Prueba 1: Sistema monetario: [25, 10, 5, 1]"
      ],
      "metadata": {
        "id": "_CedKeJwamTD"
      }
    },
    {
      "cell_type": "code",
      "source": [
        "Sistema = [25, 10, 5, 1]\n",
        "\n",
        "cambio_monedas(27,Sistema)"
      ],
      "metadata": {
        "colab": {
          "base_uri": "https://localhost:8080/"
        },
        "id": "RLY0hpwCjD2D",
        "outputId": "508b0e1c-e5d1-4921-a829-9616f6af91f0"
      },
      "execution_count": null,
      "outputs": [
        {
          "output_type": "stream",
          "name": "stdout",
          "text": [
            "El sistema a utilizar es:\n",
            "[25, 10, 5, 1]\n"
          ]
        },
        {
          "output_type": "execute_result",
          "data": {
            "text/plain": [
              "[1, 0, 0, 2]"
            ]
          },
          "metadata": {},
          "execution_count": 24
        }
      ]
    },
    {
      "cell_type": "markdown",
      "source": [
        "Prueba 2: Sistema monetario: [25, 10, 5, 1]"
      ],
      "metadata": {
        "id": "jqn5AmH0jUga"
      }
    },
    {
      "cell_type": "code",
      "source": [
        "Sistema = [25, 10, 5, 1]\n",
        "\n",
        "cambio_monedas(136,Sistema)"
      ],
      "metadata": {
        "colab": {
          "base_uri": "https://localhost:8080/"
        },
        "id": "Aqi6pR4YjbtS",
        "outputId": "64a83b5e-7e47-47e0-bb77-39331fd93551"
      },
      "execution_count": null,
      "outputs": [
        {
          "output_type": "stream",
          "name": "stdout",
          "text": [
            "El sistema a utilizar es:\n",
            "[25, 10, 5, 1]\n"
          ]
        },
        {
          "output_type": "execute_result",
          "data": {
            "text/plain": [
              "[5, 1, 0, 1]"
            ]
          },
          "metadata": {},
          "execution_count": 25
        }
      ]
    },
    {
      "cell_type": "markdown",
      "source": [
        "ALGORITMOS CON LA TÉCNICA VUELTA ATRÁS\n",
        "\n",
        "Estudio detallado de las soluciones, entre las que trataremos de encontrar la solución óptima. \n",
        "\n",
        "Construcción sistemática y por etapas de todas las soluciones posibles. Se representa a través de un árbol de expansión todo el espacio de soluciones donde cada nodo es un valor diferente para cada elemento xi.\n",
        "\n",
        "CARACTERÍSTICAS\n",
        "- Las soluciones se componen de elementos que pueden ser relacionados para expresarlos en un árbol de expansión.\n",
        "- Es posible encontrar un criterio para descartar determinadas ramas y evitar fuerza bruta."
      ],
      "metadata": {
        "id": "6v22tyO6jrNq"
      }
    },
    {
      "cell_type": "markdown",
      "source": [
        "PROBLEMA: Problema de las 4 reinas\n",
        "\n",
        "Verifica que en la solución parcial no hay amenzas entre reinas\n",
        "\n",
        "\n"
      ],
      "metadata": {
        "id": "ihnBvkPVmWOi"
      }
    },
    {
      "cell_type": "code",
      "metadata": {
        "id": "H4Iwt2XRZTFr"
      },
      "source": [
        "#N Reinas - Vuelta Atrás\n",
        "\n",
        "\n",
        "def es_prometedora(N,Solucion,Etapa): \n",
        "  '''\n",
        "  Valida que no haya amenazas, 2 valores iguales en una fila o dos elementos igules en solución.\n",
        "  O que no haya reinas en la misma diagonal.\n",
        "  \n",
        "  N = Número de reinas del tablero NxN\n",
        "  Solucion = Solución parcial\n",
        "  Etapa = Número de reinas colocadas en la solución parcial\n",
        "  '''\n",
        "\n",
        "  #print(Solucion) \n",
        "  \n",
        "  for i in range(Etapa+1): #Si la solución tiene dos valores iguales no es valida => Dos reinas en la misma fila\n",
        "    #print(\"El valor \" + str(Solucion[i]) + \" está \" +  str(Solucion.count(Solucion[i])) + \" veces\")\n",
        "    \n",
        "    if Solucion.count(Solucion[i]) > 1: #Cuenta que no haya más de un elemento igual en Solución       \n",
        "      return False\n",
        "  \n",
        "    for j in range(i+1, Etapa+1 ): #Verifica las diagonales\n",
        "      #print(\"Comprobando diagonal de \" + str(i) + \" y \" + str(j))\n",
        "      \n",
        "      if abs(i-j) == abs(Solucion[i]-Solucion[j]) : return False #Reinas en la misma columna\n",
        "  \n",
        "  return True\n",
        "\n",
        "\n",
        "\n",
        "\n",
        "def escribe_solucion(S):\n",
        "  '''\n",
        "  Función que traduce la solución al tablero\n",
        "  S = Solución\n",
        "  '''\n",
        "  \n",
        "  n = len(S)\n",
        "  \n",
        "  for k in range(n):\n",
        "    print(\"\")\n",
        "    for z in range(n):\n",
        "      if S[z] == k+1:\n",
        "        print(\" X \" , end=\"\")\n",
        "      else:\n",
        "        print(\" - \", end=\"\")\n",
        "\n",
        "\n",
        "\n",
        "\n",
        "def reinas(N, solucion=[],etapa=0): \n",
        "  '''\n",
        "  Proceso principal de N-Reinas\n",
        "\n",
        "  N = Número de reinas del tablero NxN\n",
        "  Solucion = Solución parcial = []\n",
        "  Etapa = Número de reinas colocadas en la solución parcial = 0\n",
        "  '''\n",
        "\n",
        "  if len(solucion) == 0: \n",
        "    #solucion = [0 for i in range(N)]\n",
        "    for i in range(N): #Inicia la solución con una lista de ceros del tamaño de solución\n",
        "      solucion.append(0)\n",
        "      #print(solucion)\n",
        "  \n",
        "  for i in range(1, N+1): #Recorremos todas las reinas\n",
        "    solucion[etapa] = i\n",
        "    #print(solucion)\n",
        "\n",
        "    if es_prometedora(N, solucion, etapa):\n",
        "      \n",
        "      if etapa == N-1:\n",
        "        print(\"\\n\\nLa solución es:\")\n",
        "        print(solucion)\n",
        "        escribe_solucion(solucion)\n",
        "      \n",
        "      else:  \n",
        "        reinas(N, solucion, etapa+1)\n",
        "    \n",
        "    else:\n",
        "      None"
      ],
      "execution_count": null,
      "outputs": []
    },
    {
      "cell_type": "markdown",
      "source": [
        "Prueba 1: Prueba con 4 Reinas"
      ],
      "metadata": {
        "id": "i5BP-QlQKN0P"
      }
    },
    {
      "cell_type": "code",
      "source": [
        "reinas(4,solucion=[],etapa=0)"
      ],
      "metadata": {
        "colab": {
          "base_uri": "https://localhost:8080/"
        },
        "id": "Fovxb-q_GSa9",
        "outputId": "c88580f5-a5d2-4f91-d48d-7876fd4440df"
      },
      "execution_count": null,
      "outputs": [
        {
          "output_type": "stream",
          "name": "stdout",
          "text": [
            "\n",
            "\n",
            "La solución es:\n",
            "[3, 1, 4, 2]\n",
            "\n",
            " -  X  -  - \n",
            " -  -  -  X \n",
            " X  -  -  - \n",
            " -  -  X  - "
          ]
        }
      ]
    },
    {
      "cell_type": "markdown",
      "source": [
        "Prueba 2: Prueba con 8 Reinas"
      ],
      "metadata": {
        "id": "fkJlppKdL8oG"
      }
    },
    {
      "cell_type": "code",
      "metadata": {
        "id": "eTZclKH9QV0R",
        "colab": {
          "base_uri": "https://localhost:8080/"
        },
        "outputId": "d4fd9152-d5b2-408a-ed1e-e142e6e1cb6a"
      },
      "source": [
        "reinas(8,solucion=[],etapa=0)"
      ],
      "execution_count": null,
      "outputs": [
        {
          "output_type": "stream",
          "name": "stdout",
          "text": [
            "\n",
            "\n",
            "La solución es:\n",
            "[4, 7, 5, 2, 6, 1, 3, 8]\n",
            "\n",
            " -  -  -  -  -  X  -  - \n",
            " -  -  -  X  -  -  -  - \n",
            " -  -  -  -  -  -  X  - \n",
            " X  -  -  -  -  -  -  - \n",
            " -  -  X  -  -  -  -  - \n",
            " -  -  -  -  X  -  -  - \n",
            " -  X  -  -  -  -  -  - \n",
            " -  -  -  -  -  -  -  X \n",
            "\n",
            "La solución es:\n",
            "[5, 7, 2, 6, 3, 1, 4, 8]\n",
            "\n",
            " -  -  -  -  -  X  -  - \n",
            " -  -  X  -  -  -  -  - \n",
            " -  -  -  -  X  -  -  - \n",
            " -  -  -  -  -  -  X  - \n",
            " X  -  -  -  -  -  -  - \n",
            " -  -  -  X  -  -  -  - \n",
            " -  X  -  -  -  -  -  - \n",
            " -  -  -  -  -  -  -  X \n",
            "\n",
            "La solución es:\n",
            "[6, 3, 5, 7, 1, 4, 2, 8]\n",
            "\n",
            " -  -  -  -  X  -  -  - \n",
            " -  -  -  -  -  -  X  - \n",
            " -  X  -  -  -  -  -  - \n",
            " -  -  -  -  -  X  -  - \n",
            " -  -  X  -  -  -  -  - \n",
            " X  -  -  -  -  -  -  - \n",
            " -  -  -  X  -  -  -  - \n",
            " -  -  -  -  -  -  -  X \n",
            "\n",
            "La solución es:\n",
            "[6, 4, 7, 1, 3, 5, 2, 8]\n",
            "\n",
            " -  -  -  X  -  -  -  - \n",
            " -  -  -  -  -  -  X  - \n",
            " -  -  -  -  X  -  -  - \n",
            " -  X  -  -  -  -  -  - \n",
            " -  -  -  -  -  X  -  - \n",
            " X  -  -  -  -  -  -  - \n",
            " -  -  X  -  -  -  -  - \n",
            " -  -  -  -  -  -  -  X "
          ]
        }
      ]
    }
  ]
}